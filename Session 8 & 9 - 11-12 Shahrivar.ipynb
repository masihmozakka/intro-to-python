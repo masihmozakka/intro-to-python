{
 "cells": [
  {
   "cell_type": "markdown",
   "source": [
    "<div dir=\"rtl\">\r\n",
    "\r\n",
    "# جلسه هشتم و نهم، ۱۱ و ۱۲ شهریور\r\n",
    "در این جلسه قصد داریم تا ضمن بررسی چند نکته کوتاه جدید، به تثبیت مطالب آموخته شده بپردازیم.\r\n",
    "</div>"
   ],
   "metadata": {}
  },
  {
   "cell_type": "markdown",
   "source": [
    "## \\_\\_doc\\_\\_\r\n",
    "<div dir=\"rtl\">\r\n",
    "\r\n",
    "فایل شما ممکن است شامل ده ها تابع باشد، می‌توانیم با اضافه کردن یک کامنت خاص به تعریف تابع، کار با آن را ساده تر کنیم.\r\n",
    "</div>"
   ],
   "metadata": {}
  },
  {
   "cell_type": "code",
   "execution_count": 13,
   "source": [
    "# here is how to define a description for your function\r\n",
    "def func(n):\r\n",
    "    \"\"\" this function takes a number n and doubles it \"\"\"\r\n",
    "    return 2*n\r\n",
    "\r\n",
    "# dunder (=double underscore) attribute\r\n",
    "print(func.__doc__) # documentation"
   ],
   "outputs": [
    {
     "output_type": "stream",
     "name": "stdout",
     "text": [
      " this function takes a number n and doubles it \n"
     ]
    }
   ],
   "metadata": {}
  },
  {
   "cell_type": "code",
   "execution_count": 14,
   "source": [
    "from sympy import *\r\n",
    "\r\n",
    "x = symbols('x')\r\n",
    "\r\n",
    "e = 0\r\n",
    "n = 10\r\n",
    "\r\n",
    "for i in range(0, n):\r\n",
    "    e = e + x**i/factorial(i)\r\n",
    "\r\n",
    "e.subs(x, 5).evalf() # substitution, evaluate function"
   ],
   "outputs": [
    {
     "output_type": "execute_result",
     "data": {
      "text/latex": [
       "$\\displaystyle 143.689456569665$"
      ],
      "text/plain": [
       "143.689456569665"
      ]
     },
     "metadata": {},
     "execution_count": 14
    }
   ],
   "metadata": {}
  },
  {
   "cell_type": "code",
   "execution_count": 15,
   "source": [
    "import math\r\n",
    "\r\n",
    "e = 0\r\n",
    "n = 10\r\n",
    "x = 5\r\n",
    "\r\n",
    "for i in range(0, n):\r\n",
    "    e += x**i / math.factorial(i)\r\n",
    "print(format(e, '.3f'))"
   ],
   "outputs": [
    {
     "output_type": "stream",
     "name": "stdout",
     "text": [
      "143.689\n"
     ]
    }
   ],
   "metadata": {}
  },
  {
   "cell_type": "markdown",
   "source": [
    "### Question\r\n",
    "Implement a class representing a _2x2 matrix_. You should include a str method to print the matrix, a mul method to implement matrix multiplication and method to compute the determinant. It should also have an add method to add two matrices together. Also as a bonus: implement the \\_\\_getitem\\_\\_ method to get matrix elements by row and column."
   ],
   "metadata": {}
  },
  {
   "cell_type": "code",
   "execution_count": 16,
   "source": [
    "# first lets see how matrices are included in numpy\r\n",
    "import numpy as np\r\n",
    "\r\n",
    "a = np.array([[1, 2], [3, 4]])\r\n",
    "b = np.array([[5, 6], [7, 8]])\r\n",
    "\r\n",
    "print(a)\r\n",
    "print(b)\r\n",
    "print(a[1][1])\r\n",
    "print(a+b)\r\n",
    "print(np.matmul(a, b)) # matrix multiplication\r\n",
    "print(np.linalg.det(a))"
   ],
   "outputs": [
    {
     "output_type": "stream",
     "name": "stdout",
     "text": [
      "[[1 2]\n",
      " [3 4]]\n",
      "[[5 6]\n",
      " [7 8]]\n",
      "4\n",
      "[[ 6  8]\n",
      " [10 12]]\n",
      "[[19 22]\n",
      " [43 50]]\n",
      "-2.0000000000000004\n"
     ]
    }
   ],
   "metadata": {}
  },
  {
   "cell_type": "code",
   "execution_count": 17,
   "source": [
    "# same thing in sympy\r\n",
    "from sympy import *\r\n",
    "\r\n",
    "a = Matrix([[1, 2], [3, 4]])\r\n",
    "b = Matrix([[5, 6], [7, 8]])\r\n",
    "c = a+b\r\n",
    "c"
   ],
   "outputs": [
    {
     "output_type": "execute_result",
     "data": {
      "text/latex": [
       "$\\displaystyle \\left[\\begin{matrix}6 & 8\\\\10 & 12\\end{matrix}\\right]$"
      ],
      "text/plain": [
       "Matrix([\n",
       "[ 6,  8],\n",
       "[10, 12]])"
      ]
     },
     "metadata": {},
     "execution_count": 17
    }
   ],
   "metadata": {}
  },
  {
   "cell_type": "code",
   "execution_count": 18,
   "source": [
    "c[1, 1]\r\n"
   ],
   "outputs": [
    {
     "output_type": "execute_result",
     "data": {
      "text/latex": [
       "$\\displaystyle 12$"
      ],
      "text/plain": [
       "12"
      ]
     },
     "metadata": {},
     "execution_count": 18
    }
   ],
   "metadata": {}
  },
  {
   "cell_type": "code",
   "execution_count": 19,
   "source": [
    "d = a*b\r\n",
    "d"
   ],
   "outputs": [
    {
     "output_type": "execute_result",
     "data": {
      "text/latex": [
       "$\\displaystyle \\left[\\begin{matrix}19 & 22\\\\43 & 50\\end{matrix}\\right]$"
      ],
      "text/plain": [
       "Matrix([\n",
       "[19, 22],\n",
       "[43, 50]])"
      ]
     },
     "metadata": {},
     "execution_count": 19
    }
   ],
   "metadata": {}
  },
  {
   "cell_type": "code",
   "execution_count": 20,
   "source": [
    "a.det()"
   ],
   "outputs": [
    {
     "output_type": "execute_result",
     "data": {
      "text/latex": [
       "$\\displaystyle -2$"
      ],
      "text/plain": [
       "-2"
      ]
     },
     "metadata": {},
     "execution_count": 20
    }
   ],
   "metadata": {}
  },
  {
   "cell_type": "code",
   "execution_count": 21,
   "source": [
    "class TwoxTwoMatrix:\r\n",
    "    def multiplication_helper(self, first, second):\r\n",
    "        return first[0]*second[0] + first[1]*second[1]\r\n",
    "\r\n",
    "    def __init__(self, l):\r\n",
    "        \"\"\"\r\n",
    "            pass a list in the form of [[1, 2], [3, 4]]\r\n",
    "        \"\"\"\r\n",
    "        self.row_1 = l[0]\r\n",
    "        self.row_2 = l[1]\r\n",
    "        self.col_1 = [l[0][0], l[1][0]]\r\n",
    "        self.col_2 = [l[0][1], l[1][1]]\r\n",
    "    \r\n",
    "    def __str__(self):\r\n",
    "        return \"[{},\\n {}]\".format(self.row_1, self.row_2)\r\n",
    "\r\n",
    "    def __add__(self, other):\r\n",
    "        x_00 = self.row_1[0] + other.row_1[0]\r\n",
    "        x_01 = self.row_1[1] + other.row_1[1]\r\n",
    "        x_10 = self.row_2[0] + other.row_2[0]\r\n",
    "        x_11 = self.row_2[1] + other.row_2[1]\r\n",
    "\r\n",
    "        return TwoxTwoMatrix([[x_00, x_01], [x_10, x_11]])\r\n",
    "\r\n",
    "    def __mul__(self, other):\r\n",
    "        x_00 = self.multiplication_helper(self.row_1, other.col_1)\r\n",
    "        x_01 = self.multiplication_helper(self.row_1, other.col_2)\r\n",
    "        x_10 = self.multiplication_helper(self.row_2, other.col_1)\r\n",
    "        x_11 = self.multiplication_helper(self.row_2, other.col_2)\r\n",
    "\r\n",
    "        return TwoxTwoMatrix([[x_00, x_01], [x_10, x_11]])\r\n",
    "\r\n",
    "    def det(self):\r\n",
    "        return self.row_1[0]*self.row_2[1] - self.row_1[1]*self.row_2[0]\r\n",
    "\r\n",
    "a = TwoxTwoMatrix([[1, 2], [3, 4]])\r\n",
    "b = TwoxTwoMatrix([[5, 6], [7, 8]])\r\n",
    "\r\n",
    "print(a.det())\r\n"
   ],
   "outputs": [
    {
     "output_type": "stream",
     "name": "stdout",
     "text": [
      "-2\n"
     ]
    }
   ],
   "metadata": {}
  },
  {
   "cell_type": "code",
   "execution_count": 22,
   "source": [
    "# سوال اعداد اول در کوئرا\r\n",
    "\r\n",
    "def prime_list(n):\r\n",
    "    l = [i for i in range(2, n+1)]\r\n",
    "\r\n",
    "    for i in l:\r\n",
    "        for j in l:\r\n",
    "            if i == j:\r\n",
    "                continue\r\n",
    "            elif j % i == 0:\r\n",
    "                l.remove(j)\r\n",
    "    return l\r\n",
    "\r\n",
    "def find_first_index(n, l):\r\n",
    "    for i in range(0, len(l)):\r\n",
    "        if l[i] >= n:\r\n",
    "            return i\r\n",
    "\r\n",
    "a = 2\r\n",
    "b = 2\r\n",
    "p = prime_list(10000)\r\n",
    "\r\n",
    "start = find_first_index(a, p)\r\n",
    "end = find_first_index(b, p)\r\n",
    "p_slice = p[start:end+1]\r\n",
    "print(p_slice)"
   ],
   "outputs": [
    {
     "output_type": "stream",
     "name": "stdout",
     "text": [
      "[2]\n"
     ]
    }
   ],
   "metadata": {}
  },
  {
   "cell_type": "code",
   "execution_count": 23,
   "source": [
    "# using sigmas in sympy\r\n",
    "from sympy import *\r\n",
    "\r\n",
    "m, k = symbols('m k')\r\n",
    "f = 5*k\r\n",
    "\r\n",
    "Sum(f, (k, 1, m))"
   ],
   "outputs": [
    {
     "output_type": "execute_result",
     "data": {
      "text/latex": [
       "$\\displaystyle \\sum_{k=1}^{m} 5 k$"
      ],
      "text/plain": [
       "Sum(5*k, (k, 1, m))"
      ]
     },
     "metadata": {},
     "execution_count": 23
    }
   ],
   "metadata": {}
  },
  {
   "cell_type": "code",
   "execution_count": 24,
   "source": [
    "Sum(5*k, (k, 1, m)).doit()"
   ],
   "outputs": [
    {
     "output_type": "execute_result",
     "data": {
      "text/latex": [
       "$\\displaystyle \\frac{5 m^{2}}{2} + \\frac{5 m}{2}$"
      ],
      "text/plain": [
       "5*m**2/2 + 5*m/2"
      ]
     },
     "metadata": {},
     "execution_count": 24
    }
   ],
   "metadata": {}
  },
  {
   "cell_type": "code",
   "execution_count": 26,
   "source": [
    "n, k, a, x = symbols('n k a x')\r\n",
    "\r\n",
    "f = binomial(n, k)\r\n",
    "g = x**k * a**(n-k)\r\n",
    "h = f*g\r\n",
    "ans = Sum(h, (k, 0, n))\r\n",
    "ans.subs( [(x, 2), (a, 2), (n, 5)] ).doit()\r\n"
   ],
   "outputs": [
    {
     "output_type": "execute_result",
     "data": {
      "text/latex": [
       "$\\displaystyle 1024$"
      ],
      "text/plain": [
       "1024"
      ]
     },
     "metadata": {},
     "execution_count": 26
    }
   ],
   "metadata": {}
  },
  {
   "cell_type": "code",
   "execution_count": 27,
   "source": [
    "# isinstance function\r\n",
    "print(isinstance(\"hello\", str))\r\n",
    "print(isinstance(\"hello\", int))\r\n",
    "print(isinstance(2, float))"
   ],
   "outputs": [
    {
     "output_type": "stream",
     "name": "stdout",
     "text": [
      "True\n",
      "False\n",
      "False\n"
     ]
    }
   ],
   "metadata": {}
  },
  {
   "cell_type": "code",
   "execution_count": 28,
   "source": [
    "# function annotation\r\n",
    "\r\n",
    "def func(n: 'n should be in kg', i: 'should be in joules') -> float: # these are function annotations\r\n",
    "    \"\"\" this is a function description\"\"\"\r\n",
    "    return 2*n\r\n",
    "\r\n",
    "func.__annotations__"
   ],
   "outputs": [
    {
     "output_type": "execute_result",
     "data": {
      "text/plain": [
       "{'n': 'n should be in kg', 'i': 'should be in joules', 'return': float}"
      ]
     },
     "metadata": {},
     "execution_count": 28
    }
   ],
   "metadata": {}
  },
  {
   "cell_type": "code",
   "execution_count": 29,
   "source": [
    "import numpy as np\r\n",
    "# divide range [0, 9] into 10 segments\r\n",
    "x = np.linspace(0, 10, 3)"
   ],
   "outputs": [],
   "metadata": {}
  },
  {
   "cell_type": "code",
   "execution_count": 30,
   "source": [
    "# we can perform operations on numpy arrays\r\n",
    "# the operation will act on all members of the array\r\n",
    "x = np.linspace(0, 9, 10)\r\n",
    "\r\n",
    "print(x)\r\n",
    "print(x**2)\r\n",
    "print(x + 2)"
   ],
   "outputs": [
    {
     "output_type": "stream",
     "name": "stdout",
     "text": [
      "[0. 1. 2. 3. 4. 5. 6. 7. 8. 9.]\n",
      "[ 0.  1.  4.  9. 16. 25. 36. 49. 64. 81.]\n",
      "[ 2.  3.  4.  5.  6.  7.  8.  9. 10. 11.]\n"
     ]
    }
   ],
   "metadata": {}
  },
  {
   "cell_type": "code",
   "execution_count": 31,
   "source": [
    "# operations are performed elementwise\r\n",
    "x = np.array([1, 2, 3])\r\n",
    "y = np.array([4, 5, 6])\r\n",
    "x*y"
   ],
   "outputs": [
    {
     "output_type": "execute_result",
     "data": {
      "text/plain": [
       "array([ 4, 10, 18])"
      ]
     },
     "metadata": {},
     "execution_count": 31
    }
   ],
   "metadata": {}
  },
  {
   "cell_type": "markdown",
   "source": [
    "### Question\r\n",
    "lets write a class that implements a quadradic polynomial: $ax^2 + bx + c = 0$. Our class should have an eval() method that evaluates the polynomial for a given $x$, should have a method to return the roots and calculate $\\Delta = b^2 - 4ac$. should have an \\_\\_add\\_\\_ method and a \\_\\_sub\\_\\_ method to implement addition and substraction. It should also have a method to multiply the polynomial by an `int`. Also, it should have a method to plot the polynomial."
   ],
   "metadata": {}
  },
  {
   "cell_type": "code",
   "execution_count": 33,
   "source": [
    "from math import sqrt\r\n",
    "import matplotlib.pyplot as plt\r\n",
    "import numpy as np\r\n",
    "\r\n",
    "class Polynomial:\r\n",
    "    def __init__(self, a, b, c) -> None:\r\n",
    "        \"\"\"\r\n",
    "            function expects a, b, c according to ax^2 + bx + c.\r\n",
    "        \"\"\"\r\n",
    "        self.a = a\r\n",
    "        self.b = b\r\n",
    "        self.c = c\r\n",
    "\r\n",
    "        # alternatively, you could define delta as an attribute\r\n",
    "        # self.delta = b**2 - 4*a*c\r\n",
    "\r\n",
    "    def __str__(self) -> str:\r\n",
    "        return \"{}x^2 + {}x + {}\".format(self.a, self.b, self.c)\r\n",
    "    \r\n",
    "    def __add__(self, other):\r\n",
    "        if isinstance(other, int) or isinstance(other, float):\r\n",
    "            return Polynomial(self.a, self.b, self.c + other)\r\n",
    "        \r\n",
    "        if isinstance(other, Polynomial):\r\n",
    "            return Polynomial(self.a + other.a, self.b + other.b, self.c + other.c)\r\n",
    "\r\n",
    "    def __sub__(self, other):\r\n",
    "        if isinstance(other, int) or isinstance(other, float):\r\n",
    "            return Polynomial(self.a, self.b, self.c - other)\r\n",
    "        \r\n",
    "        if isinstance(other, Polynomial):\r\n",
    "            return Polynomial(self.a - other.a, self.b - other.b, self.c - other.c)\r\n",
    "    \r\n",
    "    def __mul__(self, other):\r\n",
    "        if isinstance(other, int) or isinstance(other, float):\r\n",
    "            return Polynomial(other*self.a, other*self.b, other*self.c)\r\n",
    "\r\n",
    "    def __rmul__(self, lhs):\r\n",
    "        return self * lhs  \r\n",
    "\r\n",
    "    def delta(self):\r\n",
    "        return self.b**2 - 4*self.a*self.c\r\n",
    "\r\n",
    "    def roots(self):\r\n",
    "        # first check is to see if a == 0, if true we have\r\n",
    "        # bx + c which is at most degree 1\r\n",
    "        if self.a == 0:\r\n",
    "            # now if b == 0, then we have c = 0 as our polynomial\r\n",
    "            if self.b == 0:\r\n",
    "                # if c == 0 then our polynomial is a constant 0 and has\r\n",
    "                # infinately many zeros\r\n",
    "                if self.c == 0:\r\n",
    "                    return \"Infinitely many zeros\"\r\n",
    "                # else its something like 2 = 0 which has no zeros\r\n",
    "                else:\r\n",
    "                    return \"Impossible\"\r\n",
    "            # if b != 0 then we have bx + c = 0 -> x = -c/b\r\n",
    "            else:\r\n",
    "                return -self.c/self.b,\r\n",
    "        # if a != 0 we have\r\n",
    "        # ax^2 + bx + c which is a degree 2 polynomial and should be solved\r\n",
    "        # using the delta\r\n",
    "        else:\r\n",
    "            d = self.delta()\r\n",
    "            \r\n",
    "            if d < 0:\r\n",
    "                # you could also raise an exception like:\r\n",
    "                # raise ValueError(\"delta is smaller than 0, no real roots\")\r\n",
    "                return \"No real roots\"\r\n",
    "\r\n",
    "            elif d == 0:\r\n",
    "                return -self.b/(2*self.a), -self.b/(2*self.a)\r\n",
    "\r\n",
    "            # now we know that delta > 0 and there are 2 real roots\r\n",
    "            else:\r\n",
    "                return (-self.b + sqrt(d))/(2*self.a), (-self.b - sqrt(d))/(2*self.a)\r\n",
    "\r\n",
    "    def eval(self, x):\r\n",
    "        return self.a * x**2 + self.b * x + self.c\r\n",
    "\r\n",
    "    def plot(self, start=0, end=10, res=10):\r\n",
    "        x = np.linspace(start, end, res)\r\n",
    "        y = self.a * x**2 + self.b * x + self.c\r\n",
    "        plt.plot(x, y)\r\n",
    "\r\n",
    "p = Polynomial(0, 2, 10)\r\n",
    "q = Polynomial(1, 2, 3)\r\n",
    "print(p)\r\n",
    "p.plot(start=-10, end=10, res=1000)\r\n",
    "q.plot(start=-10, end=10, res=1000)\r\n"
   ],
   "outputs": [
    {
     "output_type": "stream",
     "name": "stdout",
     "text": [
      "0x^2 + 2x + 10\n"
     ]
    },
    {
     "output_type": "display_data",
     "data": {
      "image/png": "[encoded data removed]",
      "text/plain": [
       "<Figure size 432x288 with 1 Axes>"
      ]
     },
     "metadata": {
      "needs_background": "light"
     }
    }
   ],
   "metadata": {}
  },
  {
   "cell_type": "code",
   "execution_count": 34,
   "source": [
    "x = np.array([1, 2, 2, 3, 4, 5, 5, 6, 8, 9, 10, 12])\r\n",
    "y = np.array([6, 7, 7.5, 10, 9.75, 10.25, 11, 12.5, 13, 12, 14.25, 17])\r\n",
    "\r\n",
    "plt.plot(x, y, 'o')"
   ],
   "outputs": [
    {
     "output_type": "execute_result",
     "data": {
      "text/plain": [
       "[<matplotlib.lines.Line2D at 0x1bacf4baf70>]"
      ]
     },
     "metadata": {},
     "execution_count": 34
    },
    {
     "output_type": "display_data",
     "data": {
      "image/png": "[encoded data removed]",
      "text/plain": [
       "<Figure size 432x288 with 1 Axes>"
      ]
     },
     "metadata": {
      "needs_background": "light"
     }
    }
   ],
   "metadata": {}
  }
 ],
 "metadata": {
  "orig_nbformat": 4,
  "language_info": {
   "name": "python",
   "version": "3.9.5",
   "mimetype": "text/x-python",
   "codemirror_mode": {
    "name": "ipython",
    "version": 3
   },
   "pygments_lexer": "ipython3",
   "nbconvert_exporter": "python",
   "file_extension": ".py"
  },
  "kernelspec": {
   "name": "python3",
   "display_name": "Python 3.9.5 64-bit"
  },
  "interpreter": {
   "hash": "63fd5069d213b44bf678585dea6b12cceca9941eaf7f819626cde1f2670de90d"
  }
 },
 "nbformat": 4,
 "nbformat_minor": 2
}