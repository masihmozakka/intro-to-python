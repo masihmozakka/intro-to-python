{
 "cells": [
  {
   "cell_type": "markdown",
   "source": [
    "<div dir=\"rtl\">\r\n",
    "\r\n",
    "# جلسه سوم، ۲۱ مرداد\r\n",
    "\r\n",
    "در دو جلسه گذشته مقدماتی از زبان پایتون را یاد گرفتیم. در این جلسه قصد داریم تا ضمن یادآوری مطالب جلسات گذشته، کمی اطلاعات خود از مفاهیم اولیه پایتون را تکمیل کنیم. در ابتدا با یک حلقه تکرار جدید شروع می‌کنیم. سپس مروری کلی از مطالب گذشته خواهیم داشت و در ادامه با چندین مطلب جدید کار را به پایان خواهیم رساند.\r\n",
    "</div>"
   ],
   "metadata": {}
  },
  {
   "cell_type": "markdown",
   "source": [
    "## While loops\r\n",
    "<div dir=\"rtl\">\r\n",
    "\r\n",
    "در جلسه گذشته با حلقه‌های for\r\n",
    "آشنا شدیم. در این حلقه‌ها ما در ابتدای کار مشخص می‌کنیم که انتظار داریم حلقه چند بار تکرار شود، و بعد اگر نیاز شد با break\r\n",
    "و continue\r\n",
    "تعداد تکرار شدن را تغییر می‌دهیم. یک حقله دیگر داریم که بر خلاف for،\r\n",
    "به جای استفاده از یک شرط تکرار به فرم range\r\n",
    "از یک شرط منطقی استغاده می‌کند.\r\n",
    "</div>"
   ],
   "metadata": {}
  },
  {
   "cell_type": "code",
   "execution_count": null,
   "source": [
    "# a while loop is written as follows:\r\n",
    "# while (condition):\r\n",
    "#   <code>\r\n",
    "\r\n",
    "x = 5\r\n",
    "while x <= 10:\r\n",
    "    print(x)\r\n",
    "    x += 1 # x = x + 1\r\n",
    "print(\"Hello students\")"
   ],
   "outputs": [],
   "metadata": {}
  },
  {
   "cell_type": "code",
   "execution_count": null,
   "source": [
    "# you can also have else blocks\r\n",
    "\r\n",
    "n = 2\r\n",
    "while 2**n <= 32:\r\n",
    "    print(n)\r\n",
    "    n += 1\r\n",
    "else:\r\n",
    "    print('done')"
   ],
   "outputs": [],
   "metadata": {}
  },
  {
   "cell_type": "code",
   "execution_count": null,
   "source": [
    "# you can also use break and continue like you did with for loops\r\n",
    "# also note how the else block isnt executed because we exited the while loop\r\n",
    "# using a break, instead of exiting because of a logical condition\r\n",
    "\r\n",
    "n = 2\r\n",
    "while 2**n <= 32:\r\n",
    "    print(n)\r\n",
    "    n += 1\r\n",
    "    if n == 4:\r\n",
    "        break\r\n",
    "else:\r\n",
    "    print('done')"
   ],
   "outputs": [],
   "metadata": {}
  },
  {
   "cell_type": "code",
   "execution_count": null,
   "source": [
    "while True:\r\n",
    "    print(\"Hello world\")"
   ],
   "outputs": [],
   "metadata": {}
  },
  {
   "cell_type": "markdown",
   "source": [
    "<div dir=\"rtl\">\r\n",
    "\r\n",
    "## مرور مطالب گذشته\r\n",
    "</div>"
   ],
   "metadata": {}
  },
  {
   "cell_type": "markdown",
   "source": [
    "<div dir=\"rtl\">\r\n",
    "\r\n",
    "### تمرین\r\n",
    "با حل دو تمرین مطالب گذشته را مرور می‌کنیم. در تمرین اول از شما خواسته شده است تا برنامه‌ای بنویسید که بازی حدس اعداد را پیاده سازی کند.\r\n",
    "\r\n",
    "عدد صحیح n را داریم\r\n",
    "و کاربر می‌خواهد آن را حدس بزند. اگر عددی که وارد کرد کمتر از n \r\n",
    "بود، چاپ کند lower\r\n",
    "و اگر بیشتر بود چاپ کند higher.\r\n",
    "برنامه تا زمانی ادامه دارد که کاربر حدس درست بزند و سپس یک متن کوتاه برای تبریک گفتن چاپ می‌شود.\r\n",
    "</div>"
   ],
   "metadata": {}
  },
  {
   "cell_type": "markdown",
   "source": [
    "<div dir=\"rtl\">\r\n",
    "\r\n",
    "### تمرین\r\n",
    "برنامه‌ای بنویسید که با گرفتن n عدد\r\n",
    "میانگین، عضو مینیمم، ماکزیمم و ۲ عضو بزرگ و کوچک لیست را چاپ کند. راهنمایی: از توابع min() و\r\n",
    "max()\r\n",
    "و sort()\r\n",
    "و sum()\r\n",
    "می‌توانید استفاده کنید.\r\n",
    "\r\n",
    "n لزوما از ۵ بزرگتر است.\r\n",
    "</div>"
   ],
   "metadata": {}
  },
  {
   "cell_type": "code",
   "execution_count": null,
   "source": [
    "# min and max return minimum and maximum values\r\n",
    "\r\n",
    "l = [5, 6, 6, 2, 1, 3, 4]\r\n",
    "print(min(l), max(l))\r\n",
    "\r\n",
    "# sum returns sum of a list, sort sorts it in ascending order\r\n",
    "l.sort()\r\n",
    "print(sum(l), l)"
   ],
   "outputs": [],
   "metadata": {}
  },
  {
   "cell_type": "markdown",
   "source": [
    "<div dir=\"rtl\">\r\n",
    "\r\n",
    "## دیکشنری‌ها\r\n",
    "ما تا به حال، با لیست‌ها آشنا شدیم. لیست‌ها مجموعه‌ای از داده‌ها هستند که هم می‌توان از آن‌ها حذف کرد و یا در صورت به آنها اضافه کرد، در صورت نیاز داده‌ای را تفییر داد همچنین، این داده‌ها ترتیبی خاص را رعایت می‌کنند و می‌توان به آن‌ها با استفاده از اندیس دسترسی پیدا کرد.\r\n",
    "\r\n",
    "اگر دقت کنیم، ۲ ویژگی را نام بردیم،\r\n",
    "+ قابلیت حذف و اضافه داده‌ها\r\n",
    "+ ترتیب داشتن داده‌ها\r\n",
    "\r\n",
    "در پایتون، بسته به وجود یا عدم وجود هر کدام از این ۲ شرط، ساختارهای جدیدی وجود دارد.\r\n",
    "\r\n",
    "- لیست‌ها: تغییرپذیر و دارای ترتیب\r\n",
    "- تاپل‌ها: تغییرناپذیر و دارای ترتیب\r\n",
    "- مجموعه‌ها: تغییرناپذیر و بدون ترتیب\r\n",
    "- دیکشنری‌ها: تغییرپذیر و دارای ترتیب (بدون عضوهای تکراری) \r\n",
    "\r\n",
    "\r\n",
    "</div>"
   ],
   "metadata": {}
  },
  {
   "cell_type": "markdown",
   "source": [
    "<div dir=\"rtl\">\r\n",
    "\r\n",
    "یک دیکشنری تقریبا با تعریف عامیانه ما از آن، همخوانی دارد. در دیکشنری‌های زبان، یک سری **کلید**\r\n",
    "به صورت *نام کلمه*\r\n",
    "داریم و برای دسترسی به\r\n",
    "**مقدار**\r\n",
    "آن کلید که در واقع *معنی کلمه* است در دیکشنری با استفاده از کلید جست و جو می‌کنیم.\r\n",
    "</div>"
   ],
   "metadata": {}
  },
  {
   "cell_type": "code",
   "execution_count": null,
   "source": [
    "# a dictionary is defined as follows:\r\n",
    "# dict = { \"key\" : value ...}\r\n",
    "\r\n",
    "python_teachers = {\"name\" : \"masih\", \"surname\" : \"mozakka\"}\r\n",
    "\r\n",
    "thisdict = {\r\n",
    "  \"brand\": \"Ford\",\r\n",
    "  \"model\": \"Mustang\",\r\n",
    "  \"year\": 1964\r\n",
    "}\r\n",
    "print(thisdict)"
   ],
   "outputs": [],
   "metadata": {}
  },
  {
   "cell_type": "code",
   "execution_count": null,
   "source": [
    "# dictionary members are accessed like:\r\n",
    "\r\n",
    "thisdict = {\r\n",
    "  \"brand\": \"Ford\",\r\n",
    "  \"model\": \"Mustang\",\r\n",
    "  \"year\": 1964\r\n",
    "}\r\n",
    "\r\n",
    "print(thisdict[\"brand\"])"
   ],
   "outputs": [],
   "metadata": {}
  },
  {
   "cell_type": "code",
   "execution_count": null,
   "source": [
    "# duplicates are not allowed\r\n",
    "\r\n",
    "thisdict = {\r\n",
    "  \"brand\": \"Ford\",\r\n",
    "  \"model\": \"Mustang\",\r\n",
    "  \"built_year\": 1964,\r\n",
    "  \"year\": 2021\r\n",
    "}\r\n",
    "print(thisdict)"
   ],
   "outputs": [],
   "metadata": {}
  },
  {
   "cell_type": "code",
   "execution_count": null,
   "source": [
    "thisdict = {\r\n",
    "  \"brand\": \"Ford\",\r\n",
    "  \"model\": \"Mustang\",\r\n",
    "  \"year\": 1964,\r\n",
    "  \"year\": 2020\r\n",
    "}\r\n",
    "print(type(thisdict), len(thisdict))\r\n"
   ],
   "outputs": [],
   "metadata": {}
  },
  {
   "cell_type": "code",
   "execution_count": null,
   "source": [
    "# we create new dict items by assigning a new key, if the key isnt in the dictionary\r\n",
    "# a new key is added to the dict. if it is, duplicates are not allowed and the key gets\r\n",
    "# an updated value instead\r\n",
    "\r\n",
    "car = {\r\n",
    "\"brand\": \"Ford\",\r\n",
    "\"model\": \"Mustang\",\r\n",
    "\"year\": 1964\r\n",
    "}\r\n",
    "\r\n",
    "print(car)\r\n",
    "\r\n",
    "car[\"color\"] = \"white\"\r\n",
    "car[\"model\"] = \"Daytona\"\r\n",
    "print(car)"
   ],
   "outputs": [],
   "metadata": {}
  },
  {
   "cell_type": "code",
   "execution_count": null,
   "source": [
    "# some useful dictionary methods\r\n",
    "# the get() method works like []:\r\n",
    "\r\n",
    "car = {\r\n",
    "\"brand\": \"Ford\",\r\n",
    "\"model\": \"Mustang\",\r\n",
    "\"year\": 1964\r\n",
    "}\r\n",
    "\r\n",
    "print(car.get(\"color\"))\r\n",
    "\r\n",
    "# the keys method returns a list of the keys in the dict\r\n",
    "# x is automatically updated to reflect changes in the dictionary\r\n",
    "\r\n",
    "x = car.keys()\r\n",
    "\r\n",
    "print(x) #before the change\r\n",
    "\r\n",
    "car[\"color\"] = \"white\"\r\n",
    "\r\n",
    "print(x) #after the change"
   ],
   "outputs": [],
   "metadata": {}
  },
  {
   "cell_type": "code",
   "execution_count": null,
   "source": [
    "# the values() method returns values instead of keys (like get()):\r\n",
    "# like get, if we change the dictionary x will be updated automatically\r\n",
    "car = {\r\n",
    "\"brand\": \"Ford\",\r\n",
    "\"model\": \"Mustang\",\r\n",
    "\"year\": 1964\r\n",
    "}\r\n",
    "\r\n",
    "x = car.values()\r\n",
    "\r\n",
    "print(x) #before the change\r\n",
    "\r\n",
    "car[\"color\"] = \"white\"\r\n",
    "\r\n",
    "print(x) #after the change"
   ],
   "outputs": [],
   "metadata": {}
  },
  {
   "cell_type": "code",
   "execution_count": null,
   "source": [
    "# we usually check if keys exist like this:\r\n",
    "\r\n",
    "thisdict = {\r\n",
    "  \"brand\": \"Ford\",\r\n",
    "  \"model\": \"Mustang\",\r\n",
    "  \"year\": 1964\r\n",
    "}\r\n",
    "if \"model\" in thisdict:\r\n",
    "  print(\"Yes, 'model' is one of the keys in the thisdict dictionary\")"
   ],
   "outputs": [],
   "metadata": {}
  },
  {
   "cell_type": "code",
   "execution_count": null,
   "source": [
    "# with the update method you can merge two dictionaries\r\n",
    "\r\n",
    "thisdict = {\r\n",
    "  \"transmission\": \"Auto\",\r\n",
    "  \"gearbox\": \"Six speed\",\r\n",
    "  \"units\": [\"A\", \"B\", \"C\"],\r\n",
    "  \"year\": 1964\r\n",
    "}\r\n",
    "\r\n",
    "cars_list = {\r\n",
    "\"brand\": \"Chevrolet\",\r\n",
    "\"model\": \"Tahoe\",\r\n",
    "\"year\": 2015\r\n",
    "}\r\n",
    "\r\n",
    "cars_list.update(thisdict)\r\n",
    "print(cars_list)"
   ],
   "outputs": [],
   "metadata": {}
  },
  {
   "cell_type": "code",
   "execution_count": null,
   "source": [
    "# we remove items using the pop() method\r\n",
    "car = {\r\n",
    "\"brand\": \"Ford\",\r\n",
    "\"model\": \"Mustang\",\r\n",
    "\"year\": 1964\r\n",
    "}\r\n",
    "\r\n",
    "car.pop(\"year\")\r\n",
    "\r\n",
    "print(car)\r\n",
    "\r\n",
    "# pop item removes last item added to the dictionary\r\n",
    "\r\n",
    "car.update({\"year\" : 2021})\r\n",
    "print(car)\r\n",
    "\r\n",
    "# clear removes all items from the dict\r\n",
    "\r\n",
    "car.clear()\r\n",
    "print(car)"
   ],
   "outputs": [],
   "metadata": {}
  },
  {
   "cell_type": "markdown",
   "source": [
    "<div dir=\"rtl\">\r\n",
    "\r\n",
    "## تاپل‌ها\r\n",
    "دیکشنری‌ها استفاده‌های خود را دارند. اما دیکشنری‌ها و لیست‌ها قابلیت تغییرپذیری را دارند که کار با آنها را کمی ریسکی می‌کند. تاپل‌ها تغییرپذیر نیستند و به این دلیل می‌توان از آنها با اطمینان بیشتری استفاده کرد.\r\n",
    "</div>"
   ],
   "metadata": {}
  },
  {
   "cell_type": "code",
   "execution_count": null,
   "source": [
    "# a tuple is created like tuple = (<value1>, <value2>...)\r\n",
    "\r\n",
    "thistuple = (\"apple\", \"banana\", \"cherry\")\r\n",
    "print(thistuple)"
   ],
   "outputs": [],
   "metadata": {}
  },
  {
   "cell_type": "code",
   "execution_count": null,
   "source": [
    "# tuples are ordered and you can access their items by []:\r\n",
    "\r\n",
    "thistuple = (\"apple\", \"banana\", \"cherry\")\r\n",
    "print(thistuple[0])"
   ],
   "outputs": [],
   "metadata": {}
  },
  {
   "cell_type": "code",
   "execution_count": null,
   "source": [
    "# you cant add to tuples, or change their elements\r\n",
    "\r\n",
    "thistuple = (\"apple\", \"banana\", \"cherry\")\r\n",
    "thistuple[0] = \"wood\"\r\n",
    "print(thistuple)"
   ],
   "outputs": [],
   "metadata": {}
  },
  {
   "cell_type": "code",
   "execution_count": null,
   "source": [
    "# tuples allow duplicates\r\n",
    "\r\n",
    "thistuple = (\"apple\", \"banana\", \"cherry\", \"apple\", \"cherry\")\r\n",
    "print(thistuple)"
   ],
   "outputs": [],
   "metadata": {}
  },
  {
   "cell_type": "code",
   "execution_count": null,
   "source": [
    "# when creating a tuple with one element, remember to add a comma\r\n",
    "\r\n",
    "thistuple = (\"apple\",)\r\n",
    "print(type(thistuple))\r\n",
    "\r\n",
    "# NOT a tuple\r\n",
    "thistuple = (\"apple\")\r\n",
    "print(type(thistuple))"
   ],
   "outputs": [],
   "metadata": {}
  },
  {
   "cell_type": "code",
   "execution_count": null,
   "source": [
    "# joining two tuples\r\n",
    "\r\n",
    "tuple1 = (\"a\", \"b\" , \"c\")\r\n",
    "tuple2 = (1, 2, 3)\r\n",
    "\r\n",
    "tuple3 = tuple1 + tuple2\r\n",
    "print(tuple3)"
   ],
   "outputs": [],
   "metadata": {}
  },
  {
   "cell_type": "code",
   "execution_count": null,
   "source": [
    "# we can even multiply a tuple\r\n",
    "\r\n",
    "fruits = (\"apple\", \"banana\", \"cherry\")\r\n",
    "mytuple = fruits * 2\r\n",
    "\r\n",
    "print(mytuple)"
   ],
   "outputs": [],
   "metadata": {}
  },
  {
   "cell_type": "code",
   "execution_count": null,
   "source": [
    "# fun fact, you can do these with lists as well\r\n",
    "\r\n",
    "list1 = [\"a\", \"b\" , \"c\"]\r\n",
    "list2 = [1, 2, 3]\r\n",
    "\r\n",
    "list3 = list1 + list2\r\n",
    "print(list3)\r\n",
    "\r\n",
    "fruits = [\"apple\", \"banana\", \"cherry\"]\r\n",
    "mylist = fruits * 2\r\n",
    "\r\n",
    "print(mylist)"
   ],
   "outputs": [],
   "metadata": {}
  },
  {
   "cell_type": "markdown",
   "source": [
    "<div dir=\"rtl\">\r\n",
    "\r\n",
    "## توابع\r\n",
    "تاکنون با توابعی مانند Print \r\n",
    "و type\r\n",
    "آشنا شده‌ایم. توابع قسمت‌هایی از کد هستند با نامی خاص که هر گاه آن نام را در کد بیاوریم، آن قسمت از کد اجرا می‌شود. توابع آنجایی به درد ما می‌خورند که نیاز باشد یک تکه کد را چندین بار اجرا کنیم. در چنین شرایطی نمی‌توان مدام کد را کپی پیست کرد و بهتر است تا به آن تیکه کد یک نام مشخص بدهیم و آن نام را در کد استفاده کنیم.\r\n",
    "</div>"
   ],
   "metadata": {}
  },
  {
   "cell_type": "code",
   "execution_count": null,
   "source": [
    "# functions are declared using the def keyword\r\n",
    "\r\n",
    "def my_function():\r\n",
    "    print(\"Hello from a function\")\r\n",
    "\r\n",
    "my_function()"
   ],
   "outputs": [],
   "metadata": {}
  },
  {
   "cell_type": "code",
   "execution_count": null,
   "source": [
    "# you can pass parameters into your function\r\n",
    "\r\n",
    "def email_creator(name, domain):\r\n",
    "    print(name + \"@\" + domain)\r\n",
    "\r\n",
    "email_creator(\"masih\", \"aut.ac.ir\")\r\n",
    "email_creator(\"mozakkam\", \"gmail.com\")"
   ],
   "outputs": [],
   "metadata": {}
  },
  {
   "cell_type": "code",
   "execution_count": null,
   "source": [
    "# you can define functions in the middle of your code, but its best practice to put all\r\n",
    "# definitions at the top\r\n",
    "\r\n",
    "print(\"hello this is a definition\")\r\n",
    "\r\n",
    "def email_creator(name, domain):\r\n",
    "    print(name + \"@\" + domain)\r\n",
    "\r\n",
    "email_creator(\"masih\", \"aut.ac.ir\")\r\n",
    "email_creator(\"mozakkam\", \"gmail.com\")"
   ],
   "outputs": [],
   "metadata": {}
  },
  {
   "cell_type": "code",
   "execution_count": null,
   "source": [
    "# if you try to call the function with one argument, you will get an error\r\n",
    "def email_creator(name, domain):\r\n",
    "    print(name + \"@\" + domain)\r\n",
    "\r\n",
    "email_creator(\"masih\")"
   ],
   "outputs": [],
   "metadata": {}
  },
  {
   "cell_type": "code",
   "execution_count": 4,
   "source": [
    "# default arguments\r\n",
    "\r\n",
    "def email_creator(name, domain=\"yahoo.com\"):\r\n",
    "    print(name + \"@\" + domain)\r\n",
    "\r\n",
    "email_creator(\"masih\", \"aut.ac.ir\")\r\n",
    "email_creator(\"masih\")"
   ],
   "outputs": [
    {
     "output_type": "stream",
     "name": "stdout",
     "text": [
      "masih@aut.ac.ir\n",
      "masih@yahoo.com\n"
     ]
    }
   ],
   "metadata": {}
  },
  {
   "cell_type": "code",
   "execution_count": 5,
   "source": [
    "# returning values from a function\r\n",
    "\r\n",
    "def my_function(x):\r\n",
    "  return 5 * x\r\n",
    "\r\n",
    "print(my_function(3))\r\n",
    "print(my_function(5))\r\n",
    "print(my_function(9))"
   ],
   "outputs": [
    {
     "output_type": "stream",
     "name": "stdout",
     "text": [
      "15\n",
      "25\n",
      "45\n"
     ]
    }
   ],
   "metadata": {}
  },
  {
   "cell_type": "code",
   "execution_count": 6,
   "source": [
    "# the function stops executing as soon as reaching a return keyword\r\n",
    "\r\n",
    "def my_function(x):\r\n",
    "    if x == 9:\r\n",
    "        return 10 * x\r\n",
    "    return 5 * x\r\n",
    "\r\n",
    "print(my_function(3))\r\n",
    "print(my_function(5))\r\n",
    "print(my_function(9))"
   ],
   "outputs": [
    {
     "output_type": "stream",
     "name": "stdout",
     "text": [
      "15\n",
      "25\n",
      "90\n"
     ]
    }
   ],
   "metadata": {}
  },
  {
   "cell_type": "code",
   "execution_count": 8,
   "source": [
    "# functions cannot be empty, so if you still havent written code, write pass\r\n",
    "def myfunction():\r\n",
    "    pass\r\n",
    "print(2)"
   ],
   "outputs": [
    {
     "output_type": "stream",
     "name": "stdout",
     "text": [
      "2\n"
     ]
    }
   ],
   "metadata": {}
  },
  {
   "cell_type": "markdown",
   "source": [
    "## recursion\r\n",
    "<div dir=\"rtl\">\r\n",
    "\r\n",
    "اگر در کد تابع، خود تابع را فرابخوانیم ریکرژن خواهیم داشت. تابع خودفراخوانی خواهد کرد تا زمانی که به یک شرط خروجی برسد\r\n",
    "</div>"
   ],
   "metadata": {}
  },
  {
   "cell_type": "code",
   "execution_count": 9,
   "source": [
    "def func (x):\r\n",
    "    if x > 10:\r\n",
    "        return x\r\n",
    "    else:\r\n",
    "        print(x)\r\n",
    "        func(x+1)\r\n",
    "\r\n",
    "func(5)"
   ],
   "outputs": [
    {
     "output_type": "stream",
     "name": "stdout",
     "text": [
      "5\n",
      "6\n",
      "7\n",
      "8\n",
      "9\n",
      "10\n"
     ]
    }
   ],
   "metadata": {}
  },
  {
   "cell_type": "code",
   "execution_count": 11,
   "source": [
    "# we can use recursion for a lot of fun things\r\n",
    "\r\n",
    "def factorial(n):\r\n",
    "    if n == 1:\r\n",
    "        return 1\r\n",
    "    else:\r\n",
    "        return n * factorial(n-1)\r\n",
    "\r\n",
    "print(factorial(6))"
   ],
   "outputs": [
    {
     "output_type": "stream",
     "name": "stdout",
     "text": [
      "720\n"
     ]
    }
   ],
   "metadata": {}
  },
  {
   "cell_type": "code",
   "execution_count": 13,
   "source": [
    "# functions inside function\r\n",
    "\r\n",
    "def myfunc():\r\n",
    "  x = 300\r\n",
    "  y = 500\r\n",
    "  def myinnerfunc():\r\n",
    "    print(2*x + y)\r\n",
    "  myinnerfunc()\r\n",
    "\r\n",
    "myfunc()"
   ],
   "outputs": [
    {
     "output_type": "stream",
     "name": "stdout",
     "text": [
      "600\n"
     ]
    }
   ],
   "metadata": {}
  },
  {
   "cell_type": "markdown",
   "source": [
    "<div dir=\"rtl\">\r\n",
    "\r\n",
    "### تمرین\r\n",
    "تابعی بنویسید که با گرفتن قد و وزن، بی‌ام‌آی را از فرمول\r\n",
    "</div>\r\n",
    "\r\n",
    "$$\\text{bmi} = weight/(height^2)$$\r\n",
    "\r\n",
    "<div dir=\"rtl\">\r\n",
    "\r\n",
    "محاسبه کند.\r\n",
    "</div>"
   ],
   "metadata": {}
  },
  {
   "cell_type": "markdown",
   "source": [
    "<div dir=\"rtl\">\r\n",
    "\r\n",
    "### تمرین\r\n",
    "تابعی بنویسید که طول و عرض یک مستطیل را گرفته، مساحت آن را محاسبه می‌کند و اگر این مساحت از ۱۰ بزرگتر بود مقدار True را برگرداند و اگر کوچکتر بود False\r\n",
    "</div>"
   ],
   "metadata": {}
  },
  {
   "cell_type": "code",
   "execution_count": 4,
   "source": [
    "def rect():\r\n",
    "    w = float(input())\r\n",
    "    h = float(input())\r\n",
    "\r\n",
    "    if w*h > 10:\r\n",
    "        return True\r\n",
    "    return False\r\n",
    "# 12\r\n",
    "print(rect())"
   ],
   "outputs": [
    {
     "output_type": "stream",
     "name": "stdout",
     "text": [
      "False\n"
     ]
    }
   ],
   "metadata": {}
  },
  {
   "cell_type": "code",
   "execution_count": null,
   "source": [],
   "outputs": [],
   "metadata": {}
  }
 ],
 "metadata": {
  "orig_nbformat": 4,
  "language_info": {
   "name": "python",
   "version": "3.9.5",
   "mimetype": "text/x-python",
   "codemirror_mode": {
    "name": "ipython",
    "version": 3
   },
   "pygments_lexer": "ipython3",
   "nbconvert_exporter": "python",
   "file_extension": ".py"
  },
  "kernelspec": {
   "name": "python3",
   "display_name": "Python 3.9.5 64-bit"
  },
  "interpreter": {
   "hash": "63fd5069d213b44bf678585dea6b12cceca9941eaf7f819626cde1f2670de90d"
  }
 },
 "nbformat": 4,
 "nbformat_minor": 2
}