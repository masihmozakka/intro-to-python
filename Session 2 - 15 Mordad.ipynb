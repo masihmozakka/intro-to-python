{
 "cells": [
  {
   "cell_type": "markdown",
   "source": [
    "<div dir=\"rtl\">\r\n",
    "\r\n",
    "# جلسه دوم، روز ۱۵ مرداد\r\n",
    "## ادامه مقدمات پایتون\r\n",
    "در جلسه گذشته با مقدمات زبان پایتون آشنا شدیم. در این جلسه قصد داریم تا با بررسی ساختارهای تصمیم و داده، از پایتون بهره بیشتری ببریم.\r\n",
    "</div>"
   ],
   "metadata": {}
  },
  {
   "cell_type": "markdown",
   "source": [
    "<div dir=\"rtl\">\r\n",
    "\r\n",
    "## یادآوری\r\n",
    "### مثال:\r\n",
    "برنامه‌ای بنویسید که با گرفتن شعاع یک دایره، مساحت آن را محاسبه کند.\r\n",
    "</div>"
   ],
   "metadata": {}
  },
  {
   "cell_type": "code",
   "execution_count": 26,
   "source": [
    "# in python, libraries are imported using the import keyword\r\n",
    "# math is a built-in library of python, meaning that all versions of python\r\n",
    "# have it automatically. you can access the functions of a library using . \r\n",
    "# for example, to access the value of pi (=3.1415926535...) we need to use\r\n",
    "# math.pi, since pi is a value and not a function, we use math.pi instead of\r\n",
    "# math.pi(), to understand the \".\" operator, math.pi basically means\r\n",
    "# get the variable pi from the library math.\r\n",
    "import math\r\n",
    "\r\n",
    "r = input(\"enter r\")\r\n",
    "r = float(r)\r\n",
    "\r\n",
    "# the area of a circle is A = pi * r^2\r\n",
    "A = math.pi * r**2\r\n",
    "\r\n",
    "print(A)"
   ],
   "outputs": [
    {
     "output_type": "stream",
     "name": "stdout",
     "text": [
      "6361.725123519331\n"
     ]
    }
   ],
   "metadata": {}
  },
  {
   "cell_type": "markdown",
   "source": [
    "<div dir=\"rtl\">\r\n",
    "\r\n",
    "### مثال:\r\n",
    "برنامه‌ای بنویسید که سینوس یک عدد را محاسبه و چاپ می‌کند.\r\n",
    "</div>"
   ],
   "metadata": {}
  },
  {
   "cell_type": "code",
   "execution_count": null,
   "source": [
    "# we need the sin() function from the math library\r\n",
    "import math\r\n",
    "\r\n",
    "x = input(\"enter x in radians\")\r\n",
    "x = float(x)\r\n",
    "\r\n",
    "print(math.sin(x))"
   ],
   "outputs": [],
   "metadata": {}
  },
  {
   "cell_type": "markdown",
   "source": [
    "<div dir=\"rtl\">\r\n",
    "\r\n",
    "### مثال:\r\n",
    "برنامه‌ای بنویسید که یک عدد را دریافت کرده و توان دوم، سوم و چهارم آن را چاپ می‌کند.\r\n",
    "</div>"
   ],
   "metadata": {}
  },
  {
   "cell_type": "code",
   "execution_count": null,
   "source": [
    "# approach number one\r\n",
    "\r\n",
    "x = input(\"enter x\")\r\n",
    "x = float(x)\r\n",
    "print(x**2, x**3, x**4)"
   ],
   "outputs": [],
   "metadata": {}
  },
  {
   "cell_type": "code",
   "execution_count": null,
   "source": [
    "# approach number two\r\n",
    "# get the pow function from the math library\r\n",
    "import math\r\n",
    "\r\n",
    "x = input(\"enter x\")\r\n",
    "x = float(x)\r\n",
    "print(math.pow(x, 2), math.pow(x, 3), math.pow(x, 4))"
   ],
   "outputs": [],
   "metadata": {}
  },
  {
   "cell_type": "markdown",
   "source": [
    "<div dir=\"rtl\">\r\n",
    "\r\n",
    "## لیست‌ها\r\n",
    "تا اینجای کار اگر می‌خواستیم با متغیرهای مختلف کار کنیم می‌بایست به هر کدام از آنها اسم مخصوصی نسبت داده و هر کدام را جدا استفاده کنیم. ولی فرض کنید می‌خواهید ۱۰۰ توان اول یک عدد را محاسبه و استفاده کنید، نمی‌توان از اول شروع کرد و ۱۰۰ متغیر جدا تعریف کرد. پس باید از ساختاری به نام لیست استفاده کنیم. لیست همانند بردارهای ریاضی است. کلکسیونی از چند متغیر که همه کنار هم مرتب شده‌اند. یک لیست به شکل زیر تعریف می‌شود:\r\n",
    "</div>"
   ],
   "metadata": {}
  },
  {
   "cell_type": "code",
   "execution_count": 3,
   "source": [
    "# l is a list\r\n",
    "\r\n",
    "l = [1, 2, 3, 4]\r\n",
    "\r\n",
    "# members are accessed using the [] operator:\r\n",
    "# lists are indexed from 0, meaning l[2] is the third element in the list.\r\n",
    "print(l[2])\r\n",
    "\r\n",
    "# lists can contain anything\r\n",
    "l = [2, \"Hello\", math.pi]\r\n",
    "\r\n",
    "# you can print lists too\r\n",
    "print(l)\r\n",
    "\r\n",
    "# lists allow duplicates\r\n",
    "l = [2, \"Hello\", math.pi, math.pi]\r\n",
    "print(l)\r\n",
    "\r\n",
    "# you can find out how many items are in a list using the len() function\r\n",
    "print(len(l))\r\n",
    "\r\n",
    "# lists are their own datatype, and don't depend on their values\r\n",
    "print(type(l))\r\n",
    "\r\n",
    "# you can also create lists using the list() constructor\r\n",
    "# create an empty list\r\n",
    "l_2 = list()\r\n",
    "l_2 = []\r\n",
    "\r\n",
    "# create a list with members, members can be lists too!\r\n",
    "l_2 = list((l, \"<- this element is a list inside of a list\"))\r\n",
    "print(l_2)"
   ],
   "outputs": [
    {
     "output_type": "stream",
     "name": "stdout",
     "text": [
      "3\n",
      "[2, 'Hello', 3.141592653589793]\n",
      "[2, 'Hello', 3.141592653589793, 3.141592653589793]\n",
      "4\n",
      "<class 'list'>\n",
      "[[2, 'Hello', 3.141592653589793, 3.141592653589793], '<- this element is a list inside of a list']\n"
     ]
    },
    {
     "output_type": "execute_result",
     "data": {
      "text/plain": [
       "'Hello'"
      ]
     },
     "metadata": {},
     "execution_count": 3
    }
   ],
   "metadata": {}
  },
  {
   "cell_type": "markdown",
   "source": [
    "<div dir=\"rtl\">\r\n",
    "\r\n",
    "## دسترسی به اعضای لیست‌ها\r\n",
    "</div>"
   ],
   "metadata": {}
  },
  {
   "cell_type": "code",
   "execution_count": 4,
   "source": [
    "# lists in python are also negative indexed, meaning\r\n",
    "# the list [1, 2, 3, 4] can be accessed using\r\n",
    "l = [1, 2, 3, 4]\r\n",
    "print(l[0], l[1], l[2], l[3])\r\n",
    "\r\n",
    "# but also, l[-1] refers to the last element, -2 refers to the second last and -3 refers to the third last element...\r\n",
    "print(l[-4], l[-3], l[-2], l[-1])\r\n",
    "\r\n",
    "# indices don't wrap around\r\n",
    "# this will show an error:\r\n",
    "# print(l[5])\r\n",
    "\r\n",
    "# you can use the : operator to select a range of values\r\n",
    "# l[1:3] means start from the element with index 1, then select elements until you reach the element with index 3. the last index is not included.\r\n",
    "print(l[1:3])\r\n",
    "\r\n",
    "# By leaving out the start value, the range will start at the first item\r\n",
    "print(l[:3])\r\n",
    "\r\n",
    "# By leaving out the end value, the range will go on to the end of the list:\r\n",
    "print(l[1:])"
   ],
   "outputs": [
    {
     "output_type": "stream",
     "name": "stdout",
     "text": [
      "1 2 3 4\n",
      "1 2 3 4\n",
      "[2, 3]\n",
      "[1, 2, 3]\n",
      "[2, 3, 4]\n"
     ]
    }
   ],
   "metadata": {}
  },
  {
   "cell_type": "markdown",
   "source": [
    "<div dir=\"rtl\">\r\n",
    "\r\n",
    "## تغییر اعضای لیست\r\n",
    "</div>"
   ],
   "metadata": {}
  },
  {
   "cell_type": "code",
   "execution_count": 5,
   "source": [
    "thislist = [\"apple\", \"banana\", \"cherry\"]\r\n",
    "thislist[1] = \"blackcurrant\"\r\n",
    "print(thislist)"
   ],
   "outputs": [
    {
     "output_type": "stream",
     "name": "stdout",
     "text": [
      "['apple', 'blackcurrant', 'cherry']\n"
     ]
    }
   ],
   "metadata": {}
  },
  {
   "cell_type": "markdown",
   "source": [
    "<div dir=\"rtl\">\r\n",
    "\r\n",
    "## متدها چیستند؟\r\n",
    "در زبان پایتون، بعضی از انواع داده دارای توابعی مخصوص خود هستند. همانطور که با استفاده از اپراتور نقطه توانستیم به توابع و متغیرهای داخل یک کتابخانه دسترسی پیدا کنیم، با همین اپراتور می‌توانیم به توابع داخل ساختارهای داده دسترسی پیدا کنیم.\r\n",
    "</div>"
   ],
   "metadata": {}
  },
  {
   "cell_type": "code",
   "execution_count": 6,
   "source": [
    "l = [1, 2, \"horse\"]\r\n",
    "l.insert(1, 3)\r\n",
    "print(l)\r\n",
    "\r\n",
    "# other methods for lists:\r\n",
    "\r\n",
    "# remove a value from list\r\n",
    "l.pop(1)\r\n",
    "print(l)\r\n",
    "\r\n",
    "# add value to end of list\r\n",
    "l.append(3)\r\n",
    "print(l)\r\n",
    "\r\n",
    "# find value and remove it\r\n",
    "l.remove(\"horse\")\r\n",
    "print(l)\r\n",
    "\r\n",
    "# reverse list\r\n",
    "l.reverse()\r\n",
    "print(l)"
   ],
   "outputs": [
    {
     "output_type": "stream",
     "name": "stdout",
     "text": [
      "[1, 3, 2, 'horse']\n",
      "[1, 2, 'horse']\n",
      "[1, 2, 'horse', 3]\n",
      "[1, 2, 3]\n",
      "[3, 2, 1]\n"
     ]
    }
   ],
   "metadata": {}
  },
  {
   "cell_type": "markdown",
   "source": [
    "<div dir=\"rtl\">\r\n",
    "\r\n",
    "## رشته یا لیست؟\r\n",
    "با رشته‌ها هم می‌توان مانند لیست‌ها کار کرد\r\n",
    "</div>"
   ],
   "metadata": {}
  },
  {
   "cell_type": "code",
   "execution_count": 9,
   "source": [
    "s = \"Hello World\"\r\n",
    "\r\n",
    "print(s[1])\r\n",
    "print(s[-5])\r\n",
    "print(s[0:7])"
   ],
   "outputs": [
    {
     "output_type": "stream",
     "name": "stdout",
     "text": [
      "e\n",
      "W\n",
      "Hello W\n",
      "98\n"
     ]
    }
   ],
   "metadata": {}
  },
  {
   "cell_type": "markdown",
   "source": [
    "<div dir=\"rtl\">\r\n",
    "\r\n",
    "## متدهای رشته‌ها\r\n",
    "</div>"
   ],
   "metadata": {}
  },
  {
   "cell_type": "code",
   "execution_count": 8,
   "source": [
    "# strings have many methods, for example:\r\n",
    "\r\n",
    "s = \"Hello World\"\r\n",
    "# all uppercase\r\n",
    "print(s.upper())\r\n",
    "\r\n",
    "# all lowercase\r\n",
    "print(s.lower())\r\n",
    "\r\n",
    "# all lowercase to uppercase and vice versa\r\n",
    "print(s.swapcase())"
   ],
   "outputs": [
    {
     "output_type": "stream",
     "name": "stdout",
     "text": [
      "HELLO WORLD\n",
      "hello world\n",
      "hELLO wORLD\n"
     ]
    }
   ],
   "metadata": {}
  },
  {
   "cell_type": "code",
   "execution_count": 12,
   "source": [
    "# you can add strings as well:\r\n",
    "print(\"hello\" + \" \" + \"world\")"
   ],
   "outputs": [
    {
     "output_type": "stream",
     "name": "stdout",
     "text": [
      "hello world\n",
      "3hello\n"
     ]
    }
   ],
   "metadata": {}
  },
  {
   "cell_type": "markdown",
   "source": [
    "<div dir=\"rtl\">\r\n",
    "\r\n",
    "## ساختارهای تصمیم\r\n",
    "فرض کنید که می‌خواهید برنامه‌ای بنویسید که تنها در صورتی که حرف اول اسم دانشجو با حرف میم شروع شده باشد، پیام خوش‌آمدگویی چاپ کند. با استفاده از ساختارهای تصمیم می‌توانیم این کار را انجام دهیم.\r\n",
    "</div>"
   ],
   "metadata": {}
  },
  {
   "cell_type": "code",
   "execution_count": null,
   "source": [
    "name = input(\"enter name\")\r\n",
    "\r\n",
    "# if first letter of name is M, then print message\r\n",
    "# == is the comparison operator, returns True if operands are equal, else False.\r\n",
    "# if <chain of logical statements>:\r\n",
    "#   <code>\r\n",
    "if name[0] == \"M\":\r\n",
    "    print(\"Hello Student\")\r\n",
    "    if name[1] == \"N\":\r\n",
    "        print(\"Hello Again\")\r\n",
    "print(\"Global\")"
   ],
   "outputs": [],
   "metadata": {}
  },
  {
   "cell_type": "markdown",
   "source": [
    "<div dir=\"rtl\">\r\n",
    "\r\n",
    "## منطق در پایتون\r\n",
    "</div>"
   ],
   "metadata": {}
  },
  {
   "cell_type": "code",
   "execution_count": 13,
   "source": [
    "#In the example above, python is checking to see if the comparison is correct (True) or not (False)\r\n",
    "print(10 > 9) # True\r\n",
    "print(10 == 9) # False\r\n",
    "print(10 < 9) # False\r\n",
    "print(10 != 9) # True\r\n",
    "print(10 <= 9) # False\r\n",
    "print(10 >= 10) # True"
   ],
   "outputs": [
    {
     "output_type": "stream",
     "name": "stdout",
     "text": [
      "True\n",
      "False\n",
      "False\n",
      "True\n",
      "False\n",
      "True\n"
     ]
    }
   ],
   "metadata": {}
  },
  {
   "cell_type": "code",
   "execution_count": 14,
   "source": [
    "# more logical operators\r\n",
    "print(10 > 8 and 10 > 9)\r\n",
    "print(10 > 11 or 10 > 7)\r\n",
    "print(not 10 > 9)"
   ],
   "outputs": [
    {
     "output_type": "stream",
     "name": "stdout",
     "text": [
      "True\n",
      "True\n",
      "False\n"
     ]
    }
   ],
   "metadata": {}
  },
  {
   "cell_type": "markdown",
   "source": [
    "<div dir=\"rtl\">\r\n",
    "\r\n",
    "## If, else\r\n",
    "فرض کنید بخواهیم پیام دیگری را در صورت شروع شدن اسم با N \r\n",
    "چاپ کنیم و اگر هیچ کدام از این دو حالت نبود، پیامی دیگر چاپ کنیم. از ساختار تکمیل شده زیر استفاده می‌کنیم.\r\n",
    "</div>"
   ],
   "metadata": {}
  },
  {
   "cell_type": "code",
   "execution_count": null,
   "source": [
    "name = input(\"enter name\")\r\n",
    "\r\n",
    "# if first letter of name is M, then print message\r\n",
    "# if first letter of name is N, the print another message\r\n",
    "# if first letter of name is L, then print another message\r\n",
    "\r\n",
    "if name[0] == \"M\":\r\n",
    "    print(\"Hello Student\")\r\n",
    "elif name[0] == \"N\": #elif = else if\r\n",
    "    print(\"Hello Special Student\")\r\n",
    "else:\r\n",
    "    print(\"Hello Regular Student\")"
   ],
   "outputs": [],
   "metadata": {}
  },
  {
   "cell_type": "code",
   "execution_count": 15,
   "source": [
    "x = 41\r\n",
    "\r\n",
    "if x > 10:\r\n",
    "  print(\"Above ten,\")\r\n",
    "  if x > 20:\r\n",
    "    print(\"and also above 20!\")\r\n",
    "  else:\r\n",
    "    print(\"but not above 20.\")"
   ],
   "outputs": [
    {
     "output_type": "stream",
     "name": "stdout",
     "text": [
      "Above ten,\n",
      "and also above 20!\n"
     ]
    }
   ],
   "metadata": {}
  },
  {
   "cell_type": "markdown",
   "source": [
    "<div dir=\"rtl\">\r\n",
    "\r\n",
    "## حلقه‌ها در پایتون\r\n",
    "در این جلسه با حلقه for آشنا می‌شویم. از حلقه‌ها برای تکرار دستورات استفاده می‌شود.\r\n",
    "قبل از این کار باید با دستور in و تابع range آشنا شویم.\r\n",
    "\r\n",
    "دستور in چک می‌کند که یک متغیر در یک کلکسیونی از متغیرها حضور داشته باشد.\r\n",
    "</div>"
   ],
   "metadata": {}
  },
  {
   "cell_type": "code",
   "execution_count": 18,
   "source": [
    "# <variable> in <collection>\r\n",
    "print(2 in [1, 2, 3, 4, 5])\r\n",
    "print(6 in [1, 2])\r\n",
    "print(1 not in [3, 3])\r\n",
    "if 6 in [1, 2, 3]:\r\n",
    "    print(\"Hello\")"
   ],
   "outputs": [
    {
     "output_type": "stream",
     "name": "stdout",
     "text": [
      "True\n",
      "False\n",
      "True\n"
     ]
    }
   ],
   "metadata": {}
  },
  {
   "cell_type": "markdown",
   "source": [
    "<div dir=\"rtl\">\r\n",
    "\r\n",
    "از تابع range() برای تولید بازه اعداد استفاده می‌شود.\r\n",
    "</div>"
   ],
   "metadata": {}
  },
  {
   "cell_type": "code",
   "execution_count": 19,
   "source": [
    "# range(a, b, n) returns a sequence of numbers starting from a, going up to but not including b, in increments of n \r\n",
    "# a for loop is created as follows:\r\n",
    "# for <variable> in <sequence>:\r\n",
    "#   <code>\r\n",
    "\r\n",
    "for i in range(1, 10):\r\n",
    "    print(i)\r\n",
    "\r\n",
    "# you can have any collection in place of a range:\r\n",
    "print(20*\"*\")\r\n",
    "for i in [1, 2, 3, 4, \"banana\"]:\r\n",
    "    print(2*i)"
   ],
   "outputs": [
    {
     "output_type": "stream",
     "name": "stdout",
     "text": [
      "1\n",
      "2\n",
      "3\n",
      "4\n",
      "5\n",
      "6\n",
      "7\n",
      "8\n",
      "9\n",
      "********************\n",
      "2\n",
      "4\n",
      "6\n",
      "8\n",
      "bananabanana\n"
     ]
    }
   ],
   "metadata": {}
  },
  {
   "cell_type": "code",
   "execution_count": 20,
   "source": [
    "# you can use else in for loops, the else block will be executed after the for loop finishes COMPLETELTY executing.\r\n",
    "for x in range(6):\r\n",
    "  print(x)\r\n",
    "else:\r\n",
    "  print(\"Finished!\")"
   ],
   "outputs": [
    {
     "output_type": "stream",
     "name": "stdout",
     "text": [
      "0\n",
      "1\n",
      "2\n",
      "3\n",
      "4\n",
      "5\n",
      "Finished!\n"
     ]
    }
   ],
   "metadata": {}
  },
  {
   "cell_type": "code",
   "execution_count": 21,
   "source": [
    "# With the break statement you can stop the loop halfway through\r\n",
    "for x in range(6):\r\n",
    "  if x == 3: \r\n",
    "    break\r\n",
    "  print(x)\r\n",
    "else:\r\n",
    "  print(\"Finished!\")"
   ],
   "outputs": [
    {
     "output_type": "stream",
     "name": "stdout",
     "text": [
      "0\n",
      "1\n",
      "2\n"
     ]
    }
   ],
   "metadata": {}
  },
  {
   "cell_type": "code",
   "execution_count": 24,
   "source": [
    "# the continue statement can be used to skip one iteration of the loop\r\n",
    "\r\n",
    "fruits = [\"apple\", \"banana\", \"cherry\"]\r\n",
    "for x in fruits:\r\n",
    "  if x == \"banana\":\r\n",
    "    continue\r\n",
    "  print(x)"
   ],
   "outputs": [
    {
     "output_type": "stream",
     "name": "stdout",
     "text": [
      "apple\n",
      "cherry\n"
     ]
    }
   ],
   "metadata": {}
  },
  {
   "cell_type": "code",
   "execution_count": 25,
   "source": [
    "# nested loops\r\n",
    "for x in range(3): # x in [0, 1, 2]\r\n",
    "  for y in range(2): # y in [0, 1]\r\n",
    "    print(x, y)"
   ],
   "outputs": [
    {
     "output_type": "stream",
     "name": "stdout",
     "text": [
      "0 0\n",
      "0 1\n",
      "1 0\n",
      "1 1\n",
      "2 0\n",
      "2 1\n"
     ]
    }
   ],
   "metadata": {}
  },
  {
   "cell_type": "markdown",
   "source": [
    "<div dir=\"rtl\">\r\n",
    "\r\n",
    "## تمرینات\r\n",
    "</div>"
   ],
   "metadata": {}
  },
  {
   "cell_type": "markdown",
   "source": [
    "<div dir=\"rtl\">\r\n",
    "\r\n",
    "### مثال\r\n",
    "برنامه‌ای بنویسید که با گرفتن شعاع یک کره، حجم آن را محاسبه کند.\r\n",
    "</div>"
   ],
   "metadata": {}
  },
  {
   "cell_type": "code",
   "execution_count": null,
   "source": [
    "import math\r\n",
    "\r\n",
    "r = input(\"enter the radius:\")\r\n",
    "r = float(r)\r\n",
    "\r\n",
    "V = 4/3 * math.pi * r**3\r\n",
    "print('The volume of the sphere is: ', V)"
   ],
   "outputs": [],
   "metadata": {}
  },
  {
   "cell_type": "markdown",
   "source": [
    "<div dir=\"rtl\">\r\n",
    "\r\n",
    "### مثال\r\n",
    "برنامه‌ای بنویسید که یک عدد را منهای ۷ کند و اگر قدرمطلق این تفاضل بیشتر از ۱۳ بود دو برابر آن را چاپ کند. راهنمایی: برای قدر مطلق از تابع abs استفاده کنید.\r\n",
    "</div>"
   ],
   "metadata": {}
  },
  {
   "cell_type": "code",
   "execution_count": null,
   "source": [
    "x = input(\"enter a number\")\r\n",
    "x = float(x)\r\n",
    "\r\n",
    "diff = abs(x - 7)\r\n",
    "if diff > 13:\r\n",
    "    print(2*diff)"
   ],
   "outputs": [],
   "metadata": {}
  },
  {
   "cell_type": "markdown",
   "source": [
    "<div dir=\"rtl\">\r\n",
    "\r\n",
    "### مثال\r\n",
    "برنامه‌ای بنویسید که عددی صحیح را دریافت کند و چک کند که آیا این عدد در فاصله ۱۰۰ واحدی عدد ۶۰۰ یا در فاصله ۵۰ واحدی عدد ۱۲۰۰ هست یا نه.\r\n",
    "</div>"
   ],
   "metadata": {}
  },
  {
   "cell_type": "code",
   "execution_count": null,
   "source": [
    "x = input(\"enter a number\")\r\n",
    "x = int(x)\r\n",
    "\r\n",
    "result = abs(600 - x) < 100 or abs(1200 - x) < 50\r\n",
    "print(result)"
   ],
   "outputs": [],
   "metadata": {}
  },
  {
   "cell_type": "markdown",
   "source": [
    "<div dir=\"rtl\">\r\n",
    "\r\n",
    "### مثال\r\n",
    "برنامه‌ای بنویسید که یک عدد صحیح از کاربر گرفته، اگر منفی بود پیامی منبی بر غلط بودن ورودی چاپ کرده و اگر مثبت بود زوج یا فرد بودن آن را مشخص کرده و اعلام کند.\r\n",
    "</div>"
   ],
   "metadata": {}
  },
  {
   "cell_type": "code",
   "execution_count": null,
   "source": [
    "x = input(\"enter a number\")\r\n",
    "x = int(x)\r\n",
    "\r\n",
    "if x >= 0:\r\n",
    "    if x % 2 == 0:\r\n",
    "        print(str(x) + \" \" + \"is even\")\r\n",
    "    else:\r\n",
    "        print(str(x) + \" \" + \"is odd\")\r\n",
    "else:\r\n",
    "    print(\"input is below zero, error\")"
   ],
   "outputs": [],
   "metadata": {}
  },
  {
   "cell_type": "markdown",
   "source": [
    "<div dir=\"rtl\">\r\n",
    "\r\n",
    "### مثال\r\n",
    "برنامه‌ای بنویسید که در ابتدا یک عدد n دریافت کرده\r\n",
    "سپس n عدد صحیح را از ورودی خوانده و\r\n",
    "  خروجی آن یک نمودار مستطیلی به شکل:\r\n",
    "a : ####...### (a times)\r\n",
    "است.\r\n",
    "</div>"
   ],
   "metadata": {}
  },
  {
   "cell_type": "markdown",
   "source": [
    "<div dir=\"rtl\">\r\n",
    "\r\n",
    "### نکته\r\n",
    "با اضافه کردن = به اپراتور های ریاضی می‌توانید دو عملیات را با هم ترکیب کنید.\r\n",
    "</div>"
   ],
   "metadata": {}
  },
  {
   "cell_type": "code",
   "execution_count": null,
   "source": [
    "x = 5\r\n",
    "\r\n",
    "# this\r\n",
    "x += 5\r\n",
    "\r\n",
    "# is the same as this\r\n",
    "x = x + 5\r\n",
    "\r\n",
    "# this\r\n",
    "x /= 5\r\n",
    "\r\n",
    "# is the same as this\r\n",
    "x = x / 5\r\n",
    "\r\n",
    "# you can use similar operators like -= and *= for other mathematical operations."
   ],
   "outputs": [],
   "metadata": {}
  },
  {
   "cell_type": "code",
   "execution_count": null,
   "source": [
    "n = int(input(\"enter n\"))\r\n",
    "\r\n",
    "l = []\r\n",
    "\r\n",
    "# read n numbers from input and put them in a list\r\n",
    "for i in range(n):\r\n",
    "    c = int(input(\"enter a number\"))\r\n",
    "    l.append(c)\r\n",
    "\r\n",
    "# print hashtags\r\n",
    "for i in l:\r\n",
    "    temperory_string = i*\"#\"\r\n",
    "    print(str(i) + \" : \" + temperory_string)"
   ],
   "outputs": [],
   "metadata": {}
  }
 ],
 "metadata": {
  "orig_nbformat": 4,
  "language_info": {
   "name": "python",
   "version": "3.9.5",
   "mimetype": "text/x-python",
   "codemirror_mode": {
    "name": "ipython",
    "version": 3
   },
   "pygments_lexer": "ipython3",
   "nbconvert_exporter": "python",
   "file_extension": ".py"
  },
  "kernelspec": {
   "name": "python3",
   "display_name": "Python 3.9.5 64-bit"
  },
  "interpreter": {
   "hash": "63fd5069d213b44bf678585dea6b12cceca9941eaf7f819626cde1f2670de90d"
  }
 },
 "nbformat": 4,
 "nbformat_minor": 2
}