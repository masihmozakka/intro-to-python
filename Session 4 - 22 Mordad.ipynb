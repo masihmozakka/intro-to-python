{
 "cells": [
  {
   "cell_type": "markdown",
   "source": [
    "<div dir=\"rtl\">\r\n",
    "\r\n",
    "# جلسه چهارم، ۲۲ مرداد\r\n",
    "در این جلسه، قصد داریم تا مطالب مقدماتی پایتون را کامل کرده و آماده شویم تا در هفته‌های دیگر،‌ به مباحث پیشرفته بپردازیم.\r\n",
    "</div>"
   ],
   "metadata": {}
  },
  {
   "cell_type": "markdown",
   "source": [
    "<div dir=\"rtl\">\r\n",
    "\r\n",
    "## مجموعه‌ها\r\n",
    "تا اینجای کار، ۳ روش درست کردن کلکسیونی از متغیرها را دیدیم. لیست‌ها، دیکشنری‌ها و تاپل‌ها. حال قصد داریم تا با مجموعه‌ها آشنا شویم. مجموعه‌ها در پایتون، همانند مجموعه‌ها در ریاضیات هستند. کلکسیونی **بدون ترتیب** از داده‌ها که **عضوهای تکراری نمی‌پذیرد** و نمی‌توان آن را تغییر داد.\r\n",
    "</div>"
   ],
   "metadata": {}
  },
  {
   "cell_type": "code",
   "execution_count": null,
   "source": [
    "# sets are written like dictionaries, but we don't have key-value pairs.\r\n",
    "\r\n",
    "myset = {\"abc\", 34, True, 40, \"male\"}\r\n",
    "print(myset)"
   ],
   "outputs": [],
   "metadata": {}
  },
  {
   "cell_type": "code",
   "execution_count": null,
   "source": [
    "# you cannot access the members of a set directly, you should use a for loop instead\r\n",
    "thisset = {\"apple\", \"banana\", \"cherry\"}\r\n",
    "\r\n",
    "for x in thisset:\r\n",
    "  print(x)"
   ],
   "outputs": [],
   "metadata": {}
  },
  {
   "cell_type": "code",
   "execution_count": null,
   "source": [
    "# you cannot change members of sets, you can only add more or delete some.\r\n",
    "\r\n",
    "thisset = {\"apple\", \"banana\", \"cherry\"}\r\n",
    "\r\n",
    "thisset.add(\"orange\")\r\n",
    "\r\n",
    "print(thisset)\r\n",
    "\r\n",
    "thisset.discard(\"banana\")\r\n",
    "thisset.add(\"orange\")\r\n",
    "print(thisset)"
   ],
   "outputs": [],
   "metadata": {}
  },
  {
   "cell_type": "markdown",
   "source": [
    "<div dir=\"rtl\">\r\n",
    "\r\n",
    "مجموعه‌ها توابعی که دارند بسیار به اعمال مجموعه‌ای متداول در ریاضیات شبیه هستند. به عنوان مثال تابع \r\n",
    "```difference```\r\n",
    "عبارت $A-B$ که در ریاضیات آن را به عنوان تفاضل دو تابع می‌شناسیم برمی‌گرداند\r\n",
    "یا تابع \r\n",
    "``symmetric_difference``\r\n",
    "مقدار $A\\Delta B$\r\n",
    "یا تفاضل متقارن را برمی‌گرداند.\r\n",
    "</div>\r\n",
    "\r\n"
   ],
   "metadata": {}
  },
  {
   "cell_type": "markdown",
   "source": [
    "<div dir=\"rtl\">\r\n",
    "\r\n",
    "## چرا مجموعه‌ها؟‌ بهینه‌سازی در برنامه‌نویسی\r\n",
    "به عنوان یک برنامه‌نویس شما باید سعی کنید تا بهترین و سریع‌ترین کد ممکن را بنویسید.\r\n",
    "\r\n",
    "بدین منظور، از یک معیار به نام اُو بزرگ استفاده می‌شود. این معیار به ما کمک می‌کند تا زمان اجرای برنامه خود را تخمین بزنیم. به طور عامیانه، یک برنامه\r\n",
    "$O(N)$\r\n",
    "است اگر همیشه (همیشه به معنای متغیر بودن بر روی تعداد داده‌های ورودی به برنامه) به حدودا $N$\r\n",
    "مرحله محاسبه نیاز باشد. این مقدار متغیر هم می‌تواند باشد. به عنوان مثال، یک حلقه فور که $n$\r\n",
    "بار تکرار دارد، حدودا مرحله اجرا نیاز خواهد داشت. ولی، یک تابع که صرفا یک عدد را دو برابر کرده و بر می‌گرداند $O(1)$\r\n",
    "است چون یک مرحله محاسبه بیشتر ندارد.\r\n",
    "\r\n",
    "برای درک بهتر،‌ به مثال رو به رو دقت کنید:‌ این برنامه $n$\r\n",
    "عدد گرفته و بیشترین آنها را برمی‌گرداند.\r\n",
    "</div>"
   ],
   "metadata": {}
  },
  {
   "cell_type": "code",
   "execution_count": null,
   "source": [
    "n = input()\r\n",
    "l = []\r\n",
    "\r\n",
    "for i in range(0, n):\r\n",
    "    l.append(float(input()))\r\n",
    "\r\n",
    "# max checks every element and then returns the maximum, so, it takes O(n) steps\r\n",
    "print(max(l))"
   ],
   "outputs": [],
   "metadata": {}
  },
  {
   "cell_type": "markdown",
   "source": [
    "<div dir=\"rtl\">\r\n",
    "\r\n",
    "### مثال\r\n",
    "برنامه‌ای بنویسید که جمع n عدد طبیعی اول را بدست آورد.\r\n",
    "</div>"
   ],
   "metadata": {}
  },
  {
   "cell_type": "code",
   "execution_count": 51,
   "source": [
    "# method 1, O(n)\r\n",
    "\r\n",
    "n = 1000000000\r\n",
    "sum_of_n = 0\r\n",
    "for i in range(1, n+1):\r\n",
    "    sum_of_n += i\r\n",
    "\r\n",
    "print(sum_of_n)"
   ],
   "outputs": [
    {
     "output_type": "error",
     "ename": "KeyboardInterrupt",
     "evalue": "",
     "traceback": [
      "\u001b[1;31m---------------------------------------------------------------------------\u001b[0m",
      "\u001b[1;31mKeyboardInterrupt\u001b[0m                         Traceback (most recent call last)",
      "\u001b[1;32m~\\AppData\\Local\\Temp/ipykernel_9544/2626985158.py\u001b[0m in \u001b[0;36m<module>\u001b[1;34m\u001b[0m\n\u001b[0;32m      4\u001b[0m \u001b[0msum_of_n\u001b[0m \u001b[1;33m=\u001b[0m \u001b[1;36m0\u001b[0m\u001b[1;33m\u001b[0m\u001b[1;33m\u001b[0m\u001b[0m\n\u001b[0;32m      5\u001b[0m \u001b[1;32mfor\u001b[0m \u001b[0mi\u001b[0m \u001b[1;32min\u001b[0m \u001b[0mrange\u001b[0m\u001b[1;33m(\u001b[0m\u001b[1;36m1\u001b[0m\u001b[1;33m,\u001b[0m \u001b[0mn\u001b[0m\u001b[1;33m+\u001b[0m\u001b[1;36m1\u001b[0m\u001b[1;33m)\u001b[0m\u001b[1;33m:\u001b[0m\u001b[1;33m\u001b[0m\u001b[1;33m\u001b[0m\u001b[0m\n\u001b[1;32m----> 6\u001b[1;33m     \u001b[0msum_of_n\u001b[0m \u001b[1;33m+=\u001b[0m \u001b[0mi\u001b[0m\u001b[1;33m\u001b[0m\u001b[1;33m\u001b[0m\u001b[0m\n\u001b[0m\u001b[0;32m      7\u001b[0m \u001b[1;33m\u001b[0m\u001b[0m\n\u001b[0;32m      8\u001b[0m \u001b[0mprint\u001b[0m\u001b[1;33m(\u001b[0m\u001b[0msum_of_n\u001b[0m\u001b[1;33m)\u001b[0m\u001b[1;33m\u001b[0m\u001b[1;33m\u001b[0m\u001b[0m\n",
      "\u001b[1;31mKeyboardInterrupt\u001b[0m: "
     ]
    }
   ],
   "metadata": {}
  },
  {
   "cell_type": "code",
   "execution_count": 53,
   "source": [
    "# method 2, O(1)\r\n",
    "\r\n",
    "def sum_of_n(x):\r\n",
    "    return int(x*(x+1)/2)\r\n",
    "n = 1000000000\r\n",
    "print(sum_of_n(n))"
   ],
   "outputs": [
    {
     "output_type": "stream",
     "name": "stdout",
     "text": [
      "500000000500000000\n"
     ]
    }
   ],
   "metadata": {}
  },
  {
   "cell_type": "markdown",
   "source": [
    "<div dir=\"rtl\">\r\n",
    "\r\n",
    "## توابع لاندا\r\n",
    "با معلوماتی که داریم، اگر بخواهیم یک تابعی بنویسیم که یک عدد را گرفته و دوبرابر آن بعلاوه ۳ را برگرداند، باید بنویسیم:\r\n",
    "</div>"
   ],
   "metadata": {}
  },
  {
   "cell_type": "code",
   "execution_count": 56,
   "source": [
    "def func(x):\r\n",
    "    return 2*x + 3\r\n",
    "print(func(5))"
   ],
   "outputs": [
    {
     "output_type": "stream",
     "name": "stdout",
     "text": [
      "13\n"
     ]
    }
   ],
   "metadata": {}
  },
  {
   "cell_type": "markdown",
   "source": [
    "<div dir=\"rtl\">\r\n",
    "\r\n",
    "ولی یک راه سریع تر هم هست، در پایتون، هر جا نیاز داشتیم تا صرفا یک خط کد را تبدیل به یک تابع کوچک کنیم، می‌توانیم از توابع لاندا استفاده کنیم.\r\n",
    "</div>"
   ],
   "metadata": {}
  },
  {
   "cell_type": "code",
   "execution_count": 58,
   "source": [
    "x = lambda a,b : 2*a*b + 3\r\n",
    "print(x(5, 6))"
   ],
   "outputs": [
    {
     "output_type": "stream",
     "name": "stdout",
     "text": [
      "63\n"
     ]
    }
   ],
   "metadata": {}
  },
  {
   "cell_type": "markdown",
   "source": [
    "<div dir=\"rtl\">\r\n",
    "\r\n",
    "یک مثال از کاربرد توابع لاندا وقتی است که بخواهید یک عبارت ریاضی را چند بار استفاده کنید. مثلا اگر بخواهید تابعی داشته باشید که یک عدد را چند برابر کند، ولی نمی‌خواهید که هر دفعه یک تابع جدید بنویسید یا پارامتر جدیدی را وارد مسئله کنید. به جای کد\r\n",
    "</div>"
   ],
   "metadata": {}
  },
  {
   "cell_type": "code",
   "execution_count": null,
   "source": [
    "def my_doubler(x):\r\n",
    "    return 2*x\r\n",
    "\r\n",
    "def my_tripler(x):\r\n",
    "    return 3*x"
   ],
   "outputs": [],
   "metadata": {}
  },
  {
   "cell_type": "markdown",
   "source": [
    "<div dir=\"rtl\">\r\n",
    "\r\n",
    "از کد زیر استفاده می‌کنیم، حال می‌توانیم بسیاری توابع مختلف بسازیم.\r\n",
    "</div>"
   ],
   "metadata": {}
  },
  {
   "cell_type": "code",
   "execution_count": 64,
   "source": [
    "def func(n):\r\n",
    "    return lambda a : n * a\r\n",
    "\r\n",
    "m = func(5)\r\n",
    "# m = lambda a : 2 * a\r\n",
    "print(m(3))"
   ],
   "outputs": [
    {
     "output_type": "stream",
     "name": "stdout",
     "text": [
      "15\n"
     ]
    }
   ],
   "metadata": {}
  },
  {
   "cell_type": "code",
   "execution_count": 65,
   "source": [
    "# you can use this to create a list of functions\r\n",
    "\r\n",
    "def func(n):\r\n",
    "    return lambda a : n * a\r\n",
    "\r\n",
    "l = []\r\n",
    "n = 4\r\n",
    "for i in range(0, n):\r\n",
    "    l.append(func(i))\r\n",
    "\r\n",
    "for i in l:\r\n",
    "    print(i(4))"
   ],
   "outputs": [
    {
     "output_type": "stream",
     "name": "stdout",
     "text": [
      "0\n",
      "4\n",
      "8\n",
      "12\n"
     ]
    }
   ],
   "metadata": {}
  },
  {
   "cell_type": "markdown",
   "source": [
    "<div dir=\"rtl\">\r\n",
    "\r\n",
    "## String formatting\r\n",
    "در پایتون می‌توان با استفاده از تابع\r\n",
    "``format``\r\n",
    "نحوه نمایش رشته‌ها را تغییر داد.\r\n",
    "</div>"
   ],
   "metadata": {}
  },
  {
   "cell_type": "code",
   "execution_count": 67,
   "source": [
    "txt = \"For only {:.2f} dollars!\"\r\n",
    "print(txt.format(49.565))"
   ],
   "outputs": [
    {
     "output_type": "stream",
     "name": "stdout",
     "text": [
      "For only 49.56 dollars!\n"
     ]
    }
   ],
   "metadata": {}
  },
  {
   "cell_type": "code",
   "execution_count": 70,
   "source": [
    "txt1 = \"My name is {fname}, I'm {age}\".format(fname = \"John\", age = 36)\r\n",
    "txt2 = \"My name is {0}, I'm {1}\".format(\"John\",36)\r\n",
    "txt3 = \"My name is {}, I'm {}\".format(\"John\",36)\r\n",
    "print(txt1)\r\n",
    "print(txt2)\r\n",
    "print(txt3)\r\n"
   ],
   "outputs": [
    {
     "output_type": "stream",
     "name": "stdout",
     "text": [
      "My name is John, I'm 36\n",
      "My name is John, I'm 36\n",
      "My name is John, I'm 36\n"
     ]
    }
   ],
   "metadata": {}
  },
  {
   "cell_type": "code",
   "execution_count": 69,
   "source": [
    "txt = \"lets convert 241231 to hexadecimal! here it is: {:X}\"\r\n",
    "print(txt.format(241231))\r\n",
    "\r\n",
    "# another cool one\r\n",
    "txt = \"2312413236 is kinda hard to read no? here is a better version: {:,}\"\r\n",
    "print(txt.format(2312413236))\r\n"
   ],
   "outputs": [
    {
     "output_type": "stream",
     "name": "stdout",
     "text": [
      "lets convert 241231 to hexadecimal! here it is: 3AE4F\n",
      "2312413236 is kinda hard to read no? here is a better version: 2,312,413,236\n"
     ]
    }
   ],
   "metadata": {}
  },
  {
   "cell_type": "markdown",
   "source": [
    "<div dir=\"rtl\">\r\n",
    "\r\n",
    "# Escaping strings\r\n",
    "فرض کنید بخواهیم کاراکتر \r\n",
    "``\"``\r\n",
    "را چاپ کنیم اما برنامه برای این کاراکتر معنای خاصی قرار داده است و خواهیم داشت:\r\n",
    "</div>"
   ],
   "metadata": {}
  },
  {
   "cell_type": "code",
   "execution_count": 71,
   "source": [
    "txt = \"now \" doesn't mean anything special\"\r\n",
    "print(txt)"
   ],
   "outputs": [
    {
     "output_type": "error",
     "ename": "SyntaxError",
     "evalue": "invalid syntax (Temp/ipykernel_9544/3008024286.py, line 1)",
     "traceback": [
      "\u001b[1;36m  File \u001b[1;32m\"C:\\Users\\98937\\AppData\\Local\\Temp/ipykernel_9544/3008024286.py\"\u001b[1;36m, line \u001b[1;32m1\u001b[0m\n\u001b[1;33m    txt = \"now \" doesn't mean anything special\"\u001b[0m\n\u001b[1;37m                 ^\u001b[0m\n\u001b[1;31mSyntaxError\u001b[0m\u001b[1;31m:\u001b[0m invalid syntax\n"
     ]
    }
   ],
   "metadata": {}
  },
  {
   "cell_type": "markdown",
   "source": [
    "<div dir=\"rtl\">\r\n",
    "\r\n",
    " از ``\\``\r\n",
    "استفاده می‌کنیم.\r\n",
    "</div>"
   ],
   "metadata": {}
  },
  {
   "cell_type": "code",
   "execution_count": 74,
   "source": [
    "txt = \"now \\\" doesn't mean anything special\"\r\n",
    "print(txt)"
   ],
   "outputs": [
    {
     "output_type": "stream",
     "name": "stdout",
     "text": [
      "now \n",
      " doesn't mean anything special\n"
     ]
    }
   ],
   "metadata": {}
  },
  {
   "cell_type": "markdown",
   "source": [
    "<div dir=\"rtl\">\r\n",
    "\r\n",
    "## تمرین\r\n",
    "برنامه‌ای بنویسید که با گرفتن ثانیه، مقدار زمان به صورت روز:ساعت:دقیقه:ثانیه را برگرداند.\r\n",
    "</div>"
   ],
   "metadata": {}
  },
  {
   "cell_type": "code",
   "execution_count": null,
   "source": [
    "time = float(input(\"Input time in seconds: \"))\r\n",
    "day = time // (24 * 3600)\r\n",
    "time = time % (24 * 3600)\r\n",
    "hour = time // 3600\r\n",
    "time %= 3600\r\n",
    "minutes = time // 60\r\n",
    "time %= 60\r\n",
    "seconds = time\r\n",
    "print(\"d:h:m:s -> %d days :%d hours :%d minutes :%d seconds\" % (day, hour, minutes, seconds))"
   ],
   "outputs": [],
   "metadata": {}
  },
  {
   "cell_type": "markdown",
   "source": [
    "<div dir=\"rtl\">\r\n",
    "\r\n",
    "## تمرین\r\n",
    "برنامه‌ای بنویسید که n و m را گرفته و n عدد دریافت کند و بررسی کند که چند عدد بزرگتر از m هستند و آنها را چاپ کند.\r\n",
    "</div>"
   ],
   "metadata": {}
  },
  {
   "cell_type": "code",
   "execution_count": null,
   "source": [
    "n = int(input())\r\n",
    "m = float(input())\r\n",
    "\r\n",
    "l = []\r\n",
    "for i in range(0, n):\r\n",
    "    c = float(input(\"enter a number\"))\r\n",
    "    if c > m:\r\n",
    "        l.append(c)\r\n",
    "\r\n",
    "l.sort()\r\n",
    "print(l, len(l))\r\n"
   ],
   "outputs": [],
   "metadata": {}
  },
  {
   "cell_type": "markdown",
   "source": [
    "<div dir=\"rtl\">\r\n",
    "\r\n",
    "## تمرین\r\n",
    "تابعی بنویسید که یک عدد n دریافت کند و سپس n تابع تولید کند که هر کدام یک عدد را n برابر می‌کنند. سپس نتیجه را برای عدد دیگری که در ورودی می‌گیرد محاسبه کند.\r\n",
    "</div>"
   ],
   "metadata": {}
  },
  {
   "cell_type": "code",
   "execution_count": null,
   "source": [
    "def fun_func(n, m):\r\n",
    "\r\n",
    "    def func(n):\r\n",
    "        return lambda a : n * a\r\n",
    "\r\n",
    "    l = []\r\n",
    "    for i in range(0, n):\r\n",
    "        l.append(func(i))\r\n",
    "\r\n",
    "    for i in l:\r\n",
    "        print(i(m))\r\n",
    "\r\n",
    "fun_func(5, 10)\r\n",
    "print(20*\"=\")\r\n",
    "fun_func(15, 2)\r\n"
   ],
   "outputs": [],
   "metadata": {}
  },
  {
   "cell_type": "markdown",
   "source": [
    "<div dir=\"rtl\">\r\n",
    "\r\n",
    "## تمرین\r\n",
    "برنامه‌ای بنویسید که اول یک عدد n دریافت کرده، سپس n اقلام را دریافت کرده و در آخر قیمت هر کدام را بگیرد و یک لیست فرمت شده چاپ کند. به عنوان مثال:\r\n",
    "\r\n",
    "bread\r\n",
    "40\r\n",
    "\r\n",
    "خروجی:\r\n",
    "\r\n",
    "bread: $40.00\r\n",
    "</div>"
   ],
   "metadata": {}
  },
  {
   "cell_type": "code",
   "execution_count": null,
   "source": [],
   "outputs": [],
   "metadata": {}
  }
 ],
 "metadata": {
  "orig_nbformat": 4,
  "language_info": {
   "name": "python",
   "version": "3.9.5",
   "mimetype": "text/x-python",
   "codemirror_mode": {
    "name": "ipython",
    "version": 3
   },
   "pygments_lexer": "ipython3",
   "nbconvert_exporter": "python",
   "file_extension": ".py"
  },
  "kernelspec": {
   "name": "python3",
   "display_name": "Python 3.9.5 64-bit"
  },
  "interpreter": {
   "hash": "63fd5069d213b44bf678585dea6b12cceca9941eaf7f819626cde1f2670de90d"
  }
 },
 "nbformat": 4,
 "nbformat_minor": 2
}