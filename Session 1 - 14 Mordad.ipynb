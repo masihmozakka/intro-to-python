{
 "cells": [
  {
   "cell_type": "markdown",
   "source": [
    "<div dir=\"rtl\">\r\n",
    "\r\n",
    "# جلسه اول، روز ۱۴ مرداد\r\n",
    "\r\n",
    "## معرفی کلاس\r\n",
    "در این کلاس قصد داریم تا با زبان پایتون آشنا شویم. اگر می‌توانید این فایل را باز کنید پس احتمالا ادیتور شما به طور مناسبی کار می‌کند. در جلسه اول هدف ما آشنایی با ویژگی‌های اولیه زبان پایتون و انجام محاسبات ساده در آن است. معمولا برای یادگیری یک زبان برنامه‌نویسی جدید ابتدا برنامه موسوم به \"Hello World\" را در آن اجرا می‌کنند.\r\n",
    "</div>"
   ],
   "metadata": {}
  },
  {
   "cell_type": "code",
   "execution_count": null,
   "source": [
    "print(\"Hello World\")"
   ],
   "outputs": [],
   "metadata": {}
  },
  {
   "cell_type": "markdown",
   "source": [
    "<div dir=\"rtl\">\n",
    "\n",
    "تبریک! شما اولین برنامه پایتون خود را اجرا کردید. این برنامه بسیار به زبان محاوره‌ای نزدیک است و می‌توان کارکرد آن را راحت حدس زد. تابع print\n",
    "یک رشته را دریافت کرده و آن را در کنسول چاپ می‌کند. در پایتون برخلاف زبان‌هایی مثل C\n",
    "یا Java\n",
    "نیازی به اضافه کردن ;\n",
    "به آخر دستورات نیست. همچنین می‌توانید چند جمله را همزمان با هم چاپ کنید.\n",
    "</div>"
   ],
   "metadata": {}
  },
  {
   "cell_type": "code",
   "execution_count": null,
   "source": [
    "print(\"hello world\", \"I live in Iran\")"
   ],
   "outputs": [],
   "metadata": {}
  },
  {
   "cell_type": "markdown",
   "source": [
    "<div dir=\"rtl\">\n",
    "\n",
    "همانطور که در این مثال دیدید، در پایتون می‌توانیم با جداکننده ,\n",
    "چندین پارامتر را همزمان به یک تابع بدهیم.\n",
    "## متغیرها\n",
    "در پایتون دو نوع متغیر بسیار متداول اعداد و رشته‌ها هستند. ابتدا با اعداد و اعمال اصلی آنها آشنا می‌شویم. یک متغیر در پایتون،‌ فارق از نوع، با استفاده از اپراتور =\n",
    "تعریف می‌شود. همچنین، وقت خوبی است که با توضیحات یا comment\n",
    "ها آشنا شویم. در پایتون هر خطی که با\n",
    "\\#\n",
    "شروع شده باشد به عنوان یک comment\n",
    "تفسیر شده و توسط برنامه اجرا نخواهد شد. این توضیحات به برنامه‌نویس کمک می‌کنند تا برنامه را برای خود و بقیه خواناتر کند و استفاده از آنها بسیار توصیه می‌شود. همچنین برای توضیحات بیشتر از یک خط می‌توان از سه کوتیشن پشت سر هم استفاده کرد.\n",
    "</div>"
   ],
   "metadata": {}
  },
  {
   "cell_type": "code",
   "execution_count": 8,
   "source": [
    "\"\"\"\r\n",
    "This is a multiline comment, in this cell we will explore numerical types in python.\r\n",
    "Proper comments can help make your code easier to read.\r\n",
    "سلام، می توانید فارسی هم بنویسید ولی استاندارد برنامه نویسان همان انگلیسی است.\r\n",
    "\"\"\"\r\n",
    "# integer.\r\n",
    "x = 5\r\n",
    "# float.\r\n",
    "y = 10.1\r\n",
    "# floats can also be written as a * 10^b using a e b.\r\n",
    "y = 1.01e1\r\n",
    "# 0x defines a hexadecimal number. 0xff = (f=15)*16^1 + (f=15)*16^0 = 255.\r\n",
    "z = 0xff\r\n",
    "# 0b defines a binary number, 0b100010 = 2 + 2^5 = 34.\r\n",
    "w = 0b100010\r\n",
    "# in python we have j = sqrt(-1) and we can define complex numbers.\r\n",
    "v = 1 + 2j\r\n",
    "print(x, y, z, w, v)"
   ],
   "outputs": [
    {
     "output_type": "stream",
     "name": "stdout",
     "text": [
      "5 10.1 255 34 (1+2j)\n"
     ]
    }
   ],
   "metadata": {}
  },
  {
   "cell_type": "markdown",
   "source": [
    "<div dir=\"rtl\">\r\n",
    "\r\n",
    "دقت کنید که در پایتون، فضای خالی بین دستورات یا white space\r\n",
    "معنای خاصی دارد و پایتون با استفاده از میزان تو رفتگی یا indentation\r\n",
    "تعیین می‌کند که هر دستور زیر مجموعه کدام حلقه است. همچنین می‌توانید با استفاده از تابع type\r\n",
    "نوع یک داده را مشاهده کنید.\r\n",
    "</div>"
   ],
   "metadata": {}
  },
  {
   "cell_type": "code",
   "execution_count": 9,
   "source": [
    "print(type(z), type(y), type(v))"
   ],
   "outputs": [
    {
     "output_type": "stream",
     "name": "stdout",
     "text": [
      "<class 'int'> <class 'float'> <class 'complex'>\n"
     ]
    }
   ],
   "metadata": {}
  },
  {
   "cell_type": "markdown",
   "source": [
    "<div dir=\"rtl\">\r\n",
    "\r\n",
    "در پایتون نام متغیرها می‌تواند از حروف انگلیسی، اعداد و _ تشکیل شود. همچنین نام یک متغیر نمی‌تواند با عدد شروع شود.\r\n",
    "</div>"
   ],
   "metadata": {}
  },
  {
   "cell_type": "code",
   "execution_count": null,
   "source": [
    "correct_variable_1 = 1\r\n",
    "_thisIsStillCorrect = 2\r\n",
    "#but this is not correct: 1seconds = 1\r\n",
    "\r\n",
    "#constant variables are written in all caps\r\n",
    "CONSTANT_VARIABLE = 3\r\n",
    "\r\n",
    "#python is case sensitive\r\n",
    "Age = 4\r\n",
    "age = 5"
   ],
   "outputs": [],
   "metadata": {}
  },
  {
   "cell_type": "markdown",
   "source": [
    "<div dir=\"rtl\">\n",
    "\n",
    "### نکته\n",
    "در پایتون می‌توان با استفاده از `x-`\n",
    "متغیر x را قرینه کرد.\n",
    "</div>"
   ],
   "metadata": {}
  },
  {
   "cell_type": "code",
   "execution_count": 10,
   "source": [
    "x = 5\r\n",
    "print(-x)"
   ],
   "outputs": [
    {
     "output_type": "stream",
     "name": "stdout",
     "text": [
      "-5\n"
     ]
    }
   ],
   "metadata": {}
  },
  {
   "cell_type": "markdown",
   "source": [
    "<div dir=\"rtl\">\n",
    "\n",
    "تمامی اعمال متداول را می‌توان بر روی اعداد انجام داد. \n",
    "‍</div>"
   ],
   "metadata": {}
  },
  {
   "cell_type": "code",
   "execution_count": 11,
   "source": [
    "x = 17\r\n",
    "y = 6\r\n",
    "\r\n",
    "# Output: x + y = 23\r\n",
    "print(\"x + y =\", x+y)\r\n",
    "\r\n",
    "# Output: x - y = 11\r\n",
    "print('x - y =',x-y)\r\n",
    "\r\n",
    "# Output: x * y = 102\r\n",
    "print('x * y =',x*y)\r\n",
    "\r\n",
    "# Output: x / y = 2.833...\r\n",
    "print('x / y =',x/y)\r\n",
    "\r\n",
    "# Output: x // y = 2, floor division is essentially floor(x/y).\r\n",
    "print('x // y =',x//y)\r\n",
    "\r\n",
    "# Output: x ** y = 24137569\r\n",
    "print('x ** y =',x**y)\r\n",
    "\r\n",
    "# Output: x % y = 5\r\n",
    "print('x % y =', x % y)"
   ],
   "outputs": [
    {
     "output_type": "stream",
     "name": "stdout",
     "text": [
      "x + y = 23\n",
      "x - y = 11\n",
      "x * y = 102\n",
      "x / y = 2.8333333333333335\n",
      "x // y = 2\n",
      "x ** y = 24137569\n",
      "x % y = 5\n"
     ]
    }
   ],
   "metadata": {}
  },
  {
   "cell_type": "markdown",
   "source": [
    "<div dir=\"rtl\">\n",
    "\n",
    "### نکته\n",
    "هیچ اشکالی ندارد که موقع **فراخواندن**\n",
    "یک تابع محاسبات انجام دهیم.\n",
    "</div>"
   ],
   "metadata": {}
  },
  {
   "cell_type": "code",
   "execution_count": 12,
   "source": [
    "x = 5\r\n",
    "y = 10\r\n",
    "print(2*x - x**y)"
   ],
   "outputs": [
    {
     "output_type": "stream",
     "name": "stdout",
     "text": [
      "-9765615\n"
     ]
    }
   ],
   "metadata": {}
  },
  {
   "cell_type": "markdown",
   "source": [
    "<div dir=\"rtl\">\r\n",
    "\r\n",
    "### نکته\r\n",
    "در محاسبه عبارات ریاضی می‌توان اولویت را با استفاده از پرانتز مشخص کرد. در زبان پایتون اپراتورها (همانند قواعد ریاضی که ضرب اولویت بالاتری نسبت به جمع دارد) هر کدام با اولویت خاصی محاسبه می‌شوند، جدول زیر اولویت‌های اپراتورهایی که تا به حال با آنان آنشا شدیم را نشان می‌دهد. پرانتز بالاترین اولویت را دارد.\r\n",
    "</div>\r\n",
    "\r\n",
    "\r\n",
    "\r\n",
    "| Operator        | Description          |\r\n",
    "| :-------------: |:-------------:|\r\n",
    "| `()`      | \tParentheses |\r\n",
    "| `**`      | Exponentiation      |\r\n",
    "| `+x, -x` | Sign of Number      |\r\n",
    "|`*, /, %`  | Multiplication, division, remainder|\r\n",
    "|`+, -`| Addition and Subtraction|"
   ],
   "metadata": {}
  },
  {
   "cell_type": "markdown",
   "source": [
    "<div dir=\"rtl\">\n",
    "\n",
    "همچنین می‌توان با انواع اعداد مختلف کار کرد و پایتون در صورت امکان انجام آن عمل، جواب درست را خواهد داد.\n",
    "</div>"
   ],
   "metadata": {}
  },
  {
   "cell_type": "code",
   "execution_count": 13,
   "source": [
    "x = 1.23\r\n",
    "y = 5\r\n",
    "z = 1 + 2j\r\n",
    "\r\n",
    "print(x*z, y**x, z - x)"
   ],
   "outputs": [
    {
     "output_type": "stream",
     "name": "stdout",
     "text": [
      "(1.23+2.46j) 7.239908964061694 (-0.22999999999999998+2j)\n"
     ]
    }
   ],
   "metadata": {}
  },
  {
   "cell_type": "markdown",
   "source": [
    "<div dir=\"rtl\">\n",
    "\n",
    "### نکته\n",
    "می‌توانید یک مقدار را به دو یا چند متغیر به شکل همزمان دهید، به صورت زیر.\n",
    "</div>"
   ],
   "metadata": {}
  },
  {
   "cell_type": "code",
   "execution_count": 14,
   "source": [
    "x = y = z = 5\r\n",
    "print(x, y, z)"
   ],
   "outputs": [
    {
     "output_type": "stream",
     "name": "stdout",
     "text": [
      "5 5 5\n"
     ]
    }
   ],
   "metadata": {}
  },
  {
   "cell_type": "markdown",
   "source": [
    "<div dir=\"rtl\">\n",
    "\n",
    "## ورودی کاربر\n",
    "\n",
    "بسیاری از برنامه‌ها نیاز دارند تا با کاربر در ارتباط باشند. تا به حال یاد گرفتیم که چگونه با استفاده از تابع\n",
    "print\n",
    "از برنامه خروجی‌ها را نمایش دهیم، حال می‌بینیم که با تابع input\n",
    "می‌توانیم از کاربر اطلاعات مورد نیاز را دریافت کنیم.\n",
    "</div>"
   ],
   "metadata": {}
  },
  {
   "cell_type": "code",
   "execution_count": 19,
   "source": [
    "# usage is x = input(\"optional user prompt\").\r\n",
    "n = input(\"please provide a number\")\r\n",
    "print(n)"
   ],
   "outputs": [
    {
     "output_type": "stream",
     "name": "stdout",
     "text": [
      "hello worldhello worldhello worldhello worldhello world\n"
     ]
    }
   ],
   "metadata": {}
  },
  {
   "cell_type": "markdown",
   "source": [
    "<div dir=\"rtl\">\n",
    "\n",
    "## Casting and Strings\n",
    "اگر کد سلول قبلی را برداشته و سعی کنیم عبارت\n",
    "</div>\n",
    "\n",
    "$$2n$$\n",
    "<div dir=\"rtl\">\n",
    "\n",
    "را محاسبه کنیم نتیجه مورد انتظار خود را نخواهیم گرفت. خواهیم دید که به جای محاسبه عبارت بالا، خود عدد دوبار پشت سر هم چاپ می‌شود. این به این دلیل است که تابع \n",
    "input\n",
    "ورودی را به عنوان یک رشته یا\n",
    "string\n",
    "در n\n",
    "ذخیره می‌کند. \n",
    "\n",
    "رشته‌ها عباراتی هستند که از **پشت سر هم چیدن** کاراکترها ساخته می‌شوند. در پایتون، رشته‌ها به صورت\n",
    "\"&lt;string&gt;\"\n",
    " تعریف می‌شوند. همچنین می‌توان از '&lt;string&gt;' نیز برای تعریف کردن آنها استفاده کرد. دلیل اینکه ارقام n\n",
    "را دو بار پشت سر هم می‌بینیم این است که اپراتور *\n",
    "که برای اعداد مفهوم ضرب را داشت، برای رشته‌ها نیز مفهوم خاص خودش را دارد. هر وقت که یک عدد را در یک رشته ‍‍«ضرب» کنیم در واقع آن رشته را به تعداد آن عدد پشت سر هم تکرار کرده‌ایم. این یکی از ویژگی‌های مهم زبان سطح بالایی مانند پایتون را نشان می‌دهد. به جای اینکه برای مفهوم چند بار نوشتن یک رشته یک اپراتور جدید تعریف کنیم، از یک اپراتور موجود استفاده می‌کنیم و برنامه خود با استفاده از تعاریفی که در اختیار دارد تشخیص می‌دهد که باید از کدام مفهوم ضرب استفاده کند. اگر دو عدد را ببیند به سراغ ضرب اعداد خواهد رفت و اگر یک رشته و یک عدد را ببیند از مفهوم چند بار تکرار کردن استفاده خواهد کرد.\n",
    "تکنیک casting\n",
    "برای تبدیل انواع داده به یکدیگر استفاده می‌شود. هر نوع داده در پایتون یک تابع خاص دارد که به سازنده یا\n",
    "constructor\n",
    "معروف است. این تابع ورودی خود را تبدیل به داده‌ای از نوع دیگر می‌کند. این تکنیک بسیار کاربردی‌ای است و برای مشاهده استفاده آن مثال بالا را تصحیح می‌کنیم:\n",
    "</div>\n"
   ],
   "metadata": {}
  },
  {
   "cell_type": "code",
   "execution_count": 20,
   "source": [
    "n = input(\"please provide a number\")\r\n",
    "\r\n",
    "#this will not work as intended\r\n",
    "print(2*n)\r\n",
    "\r\n",
    "#we will cast n from a string to an integer\r\n",
    "n = int(n)\r\n",
    "\r\n",
    "#now this should work as planned\r\n",
    "print(2*n)"
   ],
   "outputs": [
    {
     "output_type": "stream",
     "name": "stdout",
     "text": [
      "55\n",
      "10\n"
     ]
    }
   ],
   "metadata": {}
  },
  {
   "cell_type": "markdown",
   "source": [
    "<div dir=\"rtl\">\n",
    "\n",
    "### نکته\n",
    "مثال‌های متداول دیگری از کستینگ استفاده از \n",
    "()str\n",
    "برای تبدیل داده به نوع رشته و\n",
    "()float\n",
    "برای تبدیل داده به عدد اعشاری می‌باشند.\n",
    "</div>"
   ],
   "metadata": {}
  },
  {
   "cell_type": "code",
   "execution_count": 21,
   "source": [
    "#also notice that as we explained, throughout this code the meaning of the * operator changes depending on the context,\r\n",
    "#this is an example of the property of \"polymorphism\" which we will learn more about later.\r\n",
    "n = 5\r\n",
    "\r\n",
    "#as int\r\n",
    "print(2*n)\r\n",
    "\r\n",
    "#as string\r\n",
    "print(2*str(n))\r\n",
    "\r\n",
    "#an answer of 10.0 instead of 10 reminds us that the resulting number is a float and not an int\r\n",
    "print(2*float(n))"
   ],
   "outputs": [
    {
     "output_type": "stream",
     "name": "stdout",
     "text": [
      "10\n",
      "55\n",
      "10.0\n"
     ]
    }
   ],
   "metadata": {}
  },
  {
   "cell_type": "markdown",
   "source": [
    "<div dir=\"rtl\">\n",
    "\n",
    "### نکته\n",
    "دقت کنید که موقع cast\n",
    "از یک عدد اعشاری به یک عدد صحیح، قسمت اعشاری عدد از دست می‌رود. موقع cast\n",
    "کردن باید دقت کنید که نوع داده هدف شما چه اطلاعاتی را می‌تواند نگه دارد و آیا این تغییر مناسب برنامه\n",
    "شما می‌باشد.\n",
    "</div>"
   ],
   "metadata": {}
  },
  {
   "cell_type": "code",
   "execution_count": 22,
   "source": [
    "n = 15.4\r\n",
    "print(int(n))"
   ],
   "outputs": [
    {
     "output_type": "stream",
     "name": "stdout",
     "text": [
      "15\n"
     ]
    }
   ],
   "metadata": {}
  },
  {
   "cell_type": "markdown",
   "source": [
    "<div dir=\"rtl\">\r\n",
    "\r\n",
    "\r\n",
    "### نکته\r\n",
    "اگر تلاش کنید از یک رشته‌ای که به صورت عدد اعشاری است به یک عدد صحیح بروید برنامه خطا خواهد داد چون تابع \r\n",
    "```()int```\r\n",
    "یا ورودی \r\n",
    "```float```\r\n",
    "قبول خواهد کرد یا\r\n",
    "یک عدد صحیح به فرم رشته مانند\r\n",
    "\"56\".\r\n",
    "دانستن اینکه تابع شما چه مقادیری را قبول می‌کند و خروجی آن به چه صورتی خواهد بود بسیار مهم است و در خیلی از مواقع نیاز دارید تا با مراجعه به منابع موجود، اطلاعات مربوط به کدی که می‌نویسید را پیدا کنید. به عنوان مثال اینجانب موقع تدوین تمارین این درس بعد از خوردن به همین مشکل با سرچ در اینترنت و پیدا کردن\r\n",
    "[این جواب](https://stackoverflow.com/questions/27048627/how-to-convert-a-float-string-to-an-integer-in-python-3)\r\n",
    "متوجه خطای کد زیر شدم. سایت استک اوورفلو یکی از کاربردی ترین سایت‌های مورد استفاده یک برنامه نویس می‌باشد.\r\n",
    "\r\n",
    "\r\n",
    "</div>"
   ],
   "metadata": {}
  },
  {
   "cell_type": "code",
   "execution_count": 26,
   "source": [
    "n = \"1.2\"\r\n",
    "n = float(n)\r\n",
    "print(int(n))"
   ],
   "outputs": [
    {
     "output_type": "stream",
     "name": "stdout",
     "text": [
      "1\n"
     ]
    }
   ],
   "metadata": {}
  },
  {
   "cell_type": "markdown",
   "source": [
    "<div dir=\"rtl\">\n",
    "\n",
    "### مثال\n",
    "با اطلاعاتی که تا الان یاد گرفتیم می‌توانیم یک برنامه بسیار ساده بنویسیم، این برنامه ابتدا سه عدد \n",
    "n, a, b\n",
    "را دریافت کرده و سپس عبارت زیر را محاسبه و چاپ می‌کند:\n",
    "</div>\n",
    "\n",
    "$$x = a^b\\mod n$$\n",
    "\n",
    "<div dir=\"rtl\">\n",
    "\n",
    "محاسبه عباراتی ازین دست در رمزنگاری بسیار کاربرد دارد.\n",
    "</div>"
   ],
   "metadata": {}
  },
  {
   "cell_type": "code",
   "execution_count": 27,
   "source": [
    "n = int(input(\"please enter n:\"))\r\n",
    "a = int(input(\"now enter a:\"))\r\n",
    "b = int(input(\"now enter b:\"))\r\n",
    "\r\n",
    "x = a**b % n\r\n",
    "print(\"a, b, and n in order:\")\r\n",
    "print(a, b, n)\r\n",
    "print(\"this is a to the power of b:\")\r\n",
    "print(a**b)\r\n",
    "print(\"this is the result:\")\r\n",
    "print(x)"
   ],
   "outputs": [
    {
     "output_type": "stream",
     "name": "stdout",
     "text": [
      "a, b, and n in order:\n",
      "7 9 11\n",
      "this is a to the power of b:\n",
      "40353607\n",
      "this is the result:\n",
      "8\n"
     ]
    }
   ],
   "metadata": {}
  },
  {
   "cell_type": "markdown",
   "source": [],
   "metadata": {}
  }
 ],
 "metadata": {
  "interpreter": {
   "hash": "63fd5069d213b44bf678585dea6b12cceca9941eaf7f819626cde1f2670de90d"
  },
  "kernelspec": {
   "name": "python3",
   "display_name": "Python 3.9.5 64-bit"
  },
  "language_info": {
   "codemirror_mode": {
    "name": "ipython",
    "version": 3
   },
   "file_extension": ".py",
   "mimetype": "text/x-python",
   "name": "python",
   "nbconvert_exporter": "python",
   "pygments_lexer": "ipython3",
   "version": "3.9.5"
  }
 },
 "nbformat": 4,
 "nbformat_minor": 2
}