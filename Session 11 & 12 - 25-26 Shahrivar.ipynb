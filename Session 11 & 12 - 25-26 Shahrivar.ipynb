{
 "cells": [
  {
   "cell_type": "markdown",
   "source": [
    "<div dir=\"rtl\">\r\n",
    "\r\n",
    "# جلسه یازدهم و دوازدهم، ۲۵ و ۲۶ شهریور\r\n",
    "در این جلسه به چند نکته کوچک پرداخته و به حل کردن سوالات ادامه می‌دهیم.\r\n",
    "</div>"
   ],
   "metadata": {}
  },
  {
   "cell_type": "code",
   "execution_count": null,
   "source": [
    "# Variable Scopes\r\n",
    "# Local vs. Global\r\n",
    "\r\n",
    "# x is local to myfunc\r\n",
    "def myfunc():\r\n",
    "    x = 'hello'\r\n",
    "    print(x)\r\n",
    "\r\n",
    "myfunc()"
   ],
   "outputs": [],
   "metadata": {}
  },
  {
   "cell_type": "code",
   "execution_count": null,
   "source": [
    "# x is now global\r\n",
    "# resolving the scope\r\n",
    "# LEGB: Local, Enclosing, Global, Built-in\r\n",
    "def myfunc():\r\n",
    "    def f2():\r\n",
    "        print(y)\r\n",
    "    y = 2\r\n",
    "    f2()\r\n",
    "\r\n",
    "x = 2\r\n",
    "myfunc()"
   ],
   "outputs": [],
   "metadata": {}
  },
  {
   "cell_type": "code",
   "execution_count": null,
   "source": [
    "# x is local to myfunc\r\n",
    "def myfunc():\r\n",
    "    x = 'hello'\r\n",
    "\r\n",
    "    def myinnerfunc():\r\n",
    "        print(x)\r\n",
    "    myinnerfunc()\r\n",
    "\r\n",
    "myfunc()"
   ],
   "outputs": [],
   "metadata": {}
  },
  {
   "cell_type": "code",
   "execution_count": null,
   "source": [
    "# if two variables have the same name python will treat them as different\r\n",
    "# x in global scope is different from x in local (myfunc) scope\r\n",
    "x = 'hello'\r\n",
    "\r\n",
    "def myfunc():\r\n",
    "    x = 'world'\r\n",
    "    print(x)\r\n",
    "\r\n",
    "myfunc()"
   ],
   "outputs": [],
   "metadata": {}
  },
  {
   "cell_type": "code",
   "execution_count": 2,
   "source": [
    "# the global keyword allows us to define a global variable from inside of\r\n",
    "# the function\r\n",
    "# global is used within Local, Enclosing\r\n",
    "def myfunc():\r\n",
    "    global x\r\n",
    "    x = 'hello'\r\n",
    "\r\n",
    "\r\n",
    "myfunc()\r\n",
    "\r\n",
    "print(x)"
   ],
   "outputs": [
    {
     "output_type": "stream",
     "name": "stdout",
     "text": [
      "hello\n"
     ]
    }
   ],
   "metadata": {}
  },
  {
   "cell_type": "code",
   "execution_count": 3,
   "source": [
    "# to change a global variable we first have to declare it with the keyword\r\n",
    "x = 'hello'\r\n",
    "\r\n",
    "def myfunc():\r\n",
    "    global x\r\n",
    "    x += ' world'\r\n",
    "\r\n",
    "myfunc()\r\n",
    "\r\n",
    "print(x)"
   ],
   "outputs": [
    {
     "output_type": "stream",
     "name": "stdout",
     "text": [
      "hello world\n"
     ]
    }
   ],
   "metadata": {}
  },
  {
   "cell_type": "markdown",
   "source": [
    "## Decorators\r\n",
    "Decorators add functionality to existing code. A decorator is a design pattern in Python that allows a user to add new functionality to an existing object without modifying its structure."
   ],
   "metadata": {}
  },
  {
   "cell_type": "code",
   "execution_count": 8,
   "source": [
    "# Assigning functions to variables\r\n",
    "def plus_one(number):\r\n",
    "    return number + 1\r\n",
    "\r\n",
    "add_one = plus_one\r\n",
    "print(add_one(5))\r\n",
    "print(plus_one(5))\r\n",
    "print(add_one)\r\n",
    "print(plus_one)"
   ],
   "outputs": [
    {
     "output_type": "stream",
     "name": "stdout",
     "text": [
      "6\n",
      "6\n",
      "<function plus_one at 0x00000226A6CE21F0>\n",
      "<function plus_one at 0x00000226A6CE21F0>\n"
     ]
    }
   ],
   "metadata": {}
  },
  {
   "cell_type": "code",
   "execution_count": 9,
   "source": [
    "# We could also define functions inside of functions\r\n",
    "def plus_one(n):\r\n",
    "    def add_one(number):\r\n",
    "        return number + 1\r\n",
    "    result = add_one(n)\r\n",
    "    return result\r\n",
    "\r\n",
    "plus_one(4)"
   ],
   "outputs": [
    {
     "output_type": "execute_result",
     "data": {
      "text/plain": [
       "5"
      ]
     },
     "metadata": {},
     "execution_count": 9
    }
   ],
   "metadata": {}
  },
  {
   "cell_type": "markdown",
   "source": [
    "Functions can be passed as parameters too"
   ],
   "metadata": {}
  },
  {
   "cell_type": "code",
   "execution_count": 10,
   "source": [
    "# function in python are first class citizens\r\n",
    "def plus_one(number):\r\n",
    "    return number + 1\r\n",
    "\r\n",
    "def function_call(function):\r\n",
    "    # function = plus_one\r\n",
    "    # return plus_one(5)\r\n",
    "    return function(5)\r\n",
    "\r\n",
    "function_call(plus_one)"
   ],
   "outputs": [
    {
     "output_type": "execute_result",
     "data": {
      "text/plain": [
       "6"
      ]
     },
     "metadata": {},
     "execution_count": 10
    }
   ],
   "metadata": {}
  },
  {
   "cell_type": "markdown",
   "source": [
    "### Question:\r\n",
    "We have a set of (x, y) coordinates that we want to sort by the y value, how do we do this?"
   ],
   "metadata": {}
  },
  {
   "cell_type": "code",
   "execution_count": 17,
   "source": [
    "c = [(1, 2), (5, 6), (-10, 5), (4, 1), (8, 1), (67, 2)]\r\n",
    "\r\n",
    "# c.sort()\r\n",
    "c"
   ],
   "outputs": [
    {
     "output_type": "execute_result",
     "data": {
      "text/plain": [
       "[(1, 2), (5, 6), (-10, 5), (4, 1), (8, 1), (67, 2)]"
      ]
     },
     "metadata": {},
     "execution_count": 17
    }
   ],
   "metadata": {}
  },
  {
   "cell_type": "code",
   "execution_count": 19,
   "source": [
    "# We have to use sortkeys\r\n",
    "# |(x, y)| = sqrt(x^2 + y^2)\r\n",
    "from math import sqrt\r\n",
    "def sort_key(x):\r\n",
    "    return sqrt(x[0]**2 + x[1]**2)\r\n",
    "\r\n",
    "sort_key(c[0])\r\n",
    "c.sort(key=sort_key)\r\n",
    "print(c)"
   ],
   "outputs": [
    {
     "output_type": "stream",
     "name": "stdout",
     "text": [
      "[(1, 2), (4, 1), (5, 6), (8, 1), (-10, 5), (67, 2)]\n"
     ]
    }
   ],
   "metadata": {}
  },
  {
   "cell_type": "code",
   "execution_count": 28,
   "source": [
    "# functions could also generate new functions\r\n",
    "def hello_function(s):\r\n",
    "    def say_hi(x):\r\n",
    "        return s*x\r\n",
    "    return say_hi\r\n",
    "\r\n",
    "hello = hello_function('hello ')\r\n",
    "# def say_hi(x):\r\n",
    "#     return 'hello '*x\r\n",
    "hi = hello_function('hi ')\r\n",
    "# def say_hi(x):\r\n",
    "#     return 'hi '*x\r\n",
    "print(hello)\r\n",
    "print(hi)\r\n",
    "print(hello(5))\r\n",
    "print(hi(2))\r\n",
    "print(hello_function)"
   ],
   "outputs": [
    {
     "output_type": "stream",
     "name": "stdout",
     "text": [
      "<function hello_function.<locals>.say_hi at 0x00000226A6CE2670>\n",
      "<function hello_function.<locals>.say_hi at 0x00000226A6CE20D0>\n",
      "hello hello hello hello hello \n",
      "hi hi \n",
      "<function hello_function at 0x00000226A6CE29D0>\n"
     ]
    }
   ],
   "metadata": {}
  },
  {
   "cell_type": "code",
   "execution_count": 29,
   "source": [
    "# reminder\r\n",
    "def func(n):\r\n",
    "    return lambda x: x*n\r\n",
    "\r\n",
    "f = func(2)\r\n",
    "# f = lambda x: x*2\r\n",
    "f(5)"
   ],
   "outputs": [
    {
     "output_type": "execute_result",
     "data": {
      "text/plain": [
       "10"
      ]
     },
     "metadata": {},
     "execution_count": 29
    }
   ],
   "metadata": {}
  },
  {
   "cell_type": "markdown",
   "source": [
    "### Question\r\n",
    "We have these two functions:"
   ],
   "metadata": {}
  },
  {
   "cell_type": "code",
   "execution_count": 37,
   "source": [
    "def f1(s):\r\n",
    "    return s + \" this is function 1\"\r\n",
    "\r\n",
    "def f2(s):\r\n",
    "    return s*2\r\n",
    "\r\n",
    "print(f1('hello'))\r\n",
    "print(f2('hello'))"
   ],
   "outputs": [
    {
     "output_type": "stream",
     "name": "stdout",
     "text": [
      "hello this is function 1\n",
      "hellohello\n"
     ]
    }
   ],
   "metadata": {}
  },
  {
   "cell_type": "markdown",
   "source": [
    "Now, we want to change these functions such that their output is always uppercase, how can we do this?"
   ],
   "metadata": {}
  },
  {
   "cell_type": "code",
   "execution_count": 38,
   "source": [
    "# we could do it manually\r\n",
    "print(f1('hello').upper())\r\n",
    "print(f2('hello').upper())"
   ],
   "outputs": [
    {
     "output_type": "stream",
     "name": "stdout",
     "text": [
      "HELLO THIS IS FUNCTION 1\n",
      "HELLOHELLO\n"
     ]
    }
   ],
   "metadata": {}
  },
  {
   "cell_type": "markdown",
   "source": [
    "We could also create something called a _wrapper function_"
   ],
   "metadata": {}
  },
  {
   "cell_type": "code",
   "execution_count": 39,
   "source": [
    "def uppercase_decorator(function):\r\n",
    "    def wrapper(arg):\r\n",
    "        func = function(arg)\r\n",
    "        make_uppercase = func.upper()\r\n",
    "        return make_uppercase\r\n",
    "\r\n",
    "    return wrapper\r\n",
    "\r\n",
    "f3 = uppercase_decorator(f1)\r\n",
    "f4 = uppercase_decorator(f2)\r\n",
    "print(f3)\r\n",
    "print(f4)\r\n",
    "print(f3('hello'))\r\n",
    "print(f4('hello'))"
   ],
   "outputs": [
    {
     "output_type": "stream",
     "name": "stdout",
     "text": [
      "<function uppercase_decorator.<locals>.wrapper at 0x00000226A6CE2DC0>\n",
      "<function uppercase_decorator.<locals>.wrapper at 0x00000226A6CE2550>\n",
      "HELLO THIS IS FUNCTION 1\n",
      "HELLOHELLO\n"
     ]
    }
   ],
   "metadata": {}
  },
  {
   "cell_type": "markdown",
   "source": [
    "In Python, this is also called _decorating_, this is where we take an existing function and change its behaviour by defining other functions around it. Python also gives us a very easy syntax to use decorators with."
   ],
   "metadata": {}
  },
  {
   "cell_type": "code",
   "execution_count": 40,
   "source": [
    "@uppercase_decorator\r\n",
    "def f1(s):\r\n",
    "    return s + \" this is function 1\"\r\n",
    "\r\n",
    "@uppercase_decorator\r\n",
    "def f2(s):\r\n",
    "    return s*2\r\n",
    "\r\n",
    "print(f1('hello'))\r\n",
    "print(f2('hello'))"
   ],
   "outputs": [
    {
     "output_type": "stream",
     "name": "stdout",
     "text": [
      "HELLO THIS IS FUNCTION 1\n",
      "HELLOHELLO\n"
     ]
    }
   ],
   "metadata": {}
  },
  {
   "cell_type": "code",
   "execution_count": 44,
   "source": [
    "# defining custom decorators\r\n",
    "def split_string(function):\r\n",
    "    def wrapper(arg):\r\n",
    "        func = function(arg)\r\n",
    "        splitted_string = func.split()\r\n",
    "        return splitted_string\r\n",
    "\r\n",
    "    return wrapper\r\n",
    "\r\n",
    "@split_string\r\n",
    "@uppercase_decorator\r\n",
    "def f1(s):\r\n",
    "    return s + \" this is function 1\"\r\n",
    "\r\n",
    "f1('hello')"
   ],
   "outputs": [
    {
     "output_type": "error",
     "ename": "AttributeError",
     "evalue": "'list' object has no attribute 'upper'",
     "traceback": [
      "\u001b[1;31m---------------------------------------------------------------------------\u001b[0m",
      "\u001b[1;31mAttributeError\u001b[0m                            Traceback (most recent call last)",
      "\u001b[1;32m~\\AppData\\Local\\Temp/ipykernel_2344/2713777379.py\u001b[0m in \u001b[0;36m<module>\u001b[1;34m\u001b[0m\n\u001b[0;32m     13\u001b[0m     \u001b[1;32mreturn\u001b[0m \u001b[0ms\u001b[0m \u001b[1;33m+\u001b[0m \u001b[1;34m\" this is function 1\"\u001b[0m\u001b[1;33m\u001b[0m\u001b[1;33m\u001b[0m\u001b[0m\n\u001b[0;32m     14\u001b[0m \u001b[1;33m\u001b[0m\u001b[0m\n\u001b[1;32m---> 15\u001b[1;33m \u001b[0mf1\u001b[0m\u001b[1;33m(\u001b[0m\u001b[1;34m'hello'\u001b[0m\u001b[1;33m)\u001b[0m\u001b[1;33m\u001b[0m\u001b[1;33m\u001b[0m\u001b[0m\n\u001b[0m",
      "\u001b[1;32m~\\AppData\\Local\\Temp/ipykernel_2344/1192297846.py\u001b[0m in \u001b[0;36mwrapper\u001b[1;34m(arg)\u001b[0m\n\u001b[0;32m      2\u001b[0m     \u001b[1;32mdef\u001b[0m \u001b[0mwrapper\u001b[0m\u001b[1;33m(\u001b[0m\u001b[0marg\u001b[0m\u001b[1;33m)\u001b[0m\u001b[1;33m:\u001b[0m\u001b[1;33m\u001b[0m\u001b[1;33m\u001b[0m\u001b[0m\n\u001b[0;32m      3\u001b[0m         \u001b[0mfunc\u001b[0m \u001b[1;33m=\u001b[0m \u001b[0mfunction\u001b[0m\u001b[1;33m(\u001b[0m\u001b[0marg\u001b[0m\u001b[1;33m)\u001b[0m\u001b[1;33m\u001b[0m\u001b[1;33m\u001b[0m\u001b[0m\n\u001b[1;32m----> 4\u001b[1;33m         \u001b[0mmake_uppercase\u001b[0m \u001b[1;33m=\u001b[0m \u001b[0mfunc\u001b[0m\u001b[1;33m.\u001b[0m\u001b[0mupper\u001b[0m\u001b[1;33m(\u001b[0m\u001b[1;33m)\u001b[0m\u001b[1;33m\u001b[0m\u001b[1;33m\u001b[0m\u001b[0m\n\u001b[0m\u001b[0;32m      5\u001b[0m         \u001b[1;32mreturn\u001b[0m \u001b[0mmake_uppercase\u001b[0m\u001b[1;33m\u001b[0m\u001b[1;33m\u001b[0m\u001b[0m\n\u001b[0;32m      6\u001b[0m \u001b[1;33m\u001b[0m\u001b[0m\n",
      "\u001b[1;31mAttributeError\u001b[0m: 'list' object has no attribute 'upper'"
     ]
    }
   ],
   "metadata": {}
  },
  {
   "cell_type": "code",
   "execution_count": null,
   "source": [
    "# order of decorators\r\n",
    "def split_string(function):\r\n",
    "    def wrapper(arg):\r\n",
    "        func = function(arg)\r\n",
    "        splitted_string = func.split()\r\n",
    "        return splitted_string\r\n",
    "\r\n",
    "    return wrapper\r\n",
    "\r\n",
    "@split_string # this is a custom decorator\r\n",
    "@uppercase_decorator # this is a builtin decorator\r\n",
    "def f1(s):\r\n",
    "    return s + \" this is function 1\"\r\n",
    "\r\n",
    "f1('hello')"
   ],
   "outputs": [],
   "metadata": {}
  },
  {
   "cell_type": "markdown",
   "source": [
    "## Generators and Iterators\r\n",
    "### Iterators\r\n",
    "An iterator is something that _iterates_ over an iterable, like a list."
   ],
   "metadata": {}
  },
  {
   "cell_type": "code",
   "execution_count": 2,
   "source": [
    "for i in range(0, 10):\r\n",
    "    print(i)\r\n",
    "print(range(0, 10))"
   ],
   "outputs": [
    {
     "output_type": "stream",
     "name": "stdout",
     "text": [
      "0\n",
      "1\n",
      "2\n",
      "3\n",
      "4\n",
      "5\n",
      "6\n",
      "7\n",
      "8\n",
      "9\n",
      "range(0, 10)\n"
     ]
    }
   ],
   "metadata": {}
  },
  {
   "cell_type": "code",
   "execution_count": 9,
   "source": [
    "# Iterator\r\n",
    "# iter(iterable) -> iterator\r\n",
    "l = [0, 1, 2]\r\n",
    "it = iter(l)\r\n",
    "print(next(it))\r\n",
    "print(next(it))\r\n",
    "print(next(it))"
   ],
   "outputs": [
    {
     "output_type": "stream",
     "name": "stdout",
     "text": [
      "0\n",
      "1\n",
      "2\n"
     ]
    }
   ],
   "metadata": {}
  },
  {
   "cell_type": "code",
   "execution_count": 14,
   "source": [
    "# Generator\r\n",
    "# generator function = iterable\r\n",
    "def func():\r\n",
    "    yield 1\r\n",
    "    yield 2\r\n",
    "    yield 3\r\n",
    "\r\n",
    "# generator object = iterator\r\n",
    "x = func()\r\n",
    "print(next(x))\r\n",
    "print(next(x))\r\n",
    "print(next(x))"
   ],
   "outputs": [
    {
     "output_type": "stream",
     "name": "stdout",
     "text": [
      "1\n",
      "2\n",
      "3\n"
     ]
    }
   ],
   "metadata": {}
  },
  {
   "cell_type": "code",
   "execution_count": 19,
   "source": [
    "# yield is like return\r\n",
    "def func():\r\n",
    "    n = 1\r\n",
    "    while True:\r\n",
    "        yield n\r\n",
    "        n += 1\r\n",
    "\r\n",
    "x = func()\r\n",
    "next(x)\r\n",
    "next(x)\r\n",
    "\r\n",
    "print('heelo')\r\n",
    "\r\n",
    "next(x)"
   ],
   "outputs": [
    {
     "output_type": "stream",
     "name": "stdout",
     "text": [
      "heelo\n"
     ]
    },
    {
     "output_type": "execute_result",
     "data": {
      "text/plain": [
       "3"
      ]
     },
     "metadata": {},
     "execution_count": 19
    }
   ],
   "metadata": {}
  },
  {
   "cell_type": "code",
   "execution_count": null,
   "source": [],
   "outputs": [],
   "metadata": {}
  },
  {
   "cell_type": "code",
   "execution_count": 1,
   "source": [
    "# mytuple is an iterable\r\n",
    "mytuple = (\"apple\", \"banana\", \"cherry\")\r\n",
    "# myit is an iterator\r\n",
    "myit = iter(mytuple)"
   ],
   "outputs": [],
   "metadata": {}
  },
  {
   "cell_type": "code",
   "execution_count": 2,
   "source": [
    "print(next(myit))\r\n",
    "print(next(myit))\r\n",
    "print(next(myit))"
   ],
   "outputs": [
    {
     "output_type": "stream",
     "name": "stdout",
     "text": [
      "apple\n",
      "banana\n",
      "cherry\n"
     ]
    }
   ],
   "metadata": {}
  },
  {
   "cell_type": "markdown",
   "source": [
    "### Question\r\n",
    "Make a program that generates all of the natural numbers using iterators"
   ],
   "metadata": {}
  },
  {
   "cell_type": "code",
   "execution_count": 3,
   "source": [
    "class MyNumbers:\r\n",
    "  def __iter__(self):\r\n",
    "    self.a = 1\r\n",
    "    return self\r\n",
    "\r\n",
    "  def __next__(self):\r\n",
    "    if self.a <= 20000000:\r\n",
    "      x = self.a\r\n",
    "      self.a += 1\r\n",
    "      return x\r\n",
    "    else:\r\n",
    "      raise StopIteration\r\n",
    "\r\n",
    "myclass = MyNumbers()\r\n",
    "myiter = iter(myclass)\r\n",
    "\r\n",
    "for x in myiter:\r\n",
    "  print(x)"
   ],
   "outputs": [
    {
     "output_type": "stream",
     "name": "stdout",
     "text": [
      "1\n",
      "2\n",
      "3\n",
      "4\n",
      "5\n",
      "6\n",
      "7\n",
      "8\n",
      "9\n",
      "10\n",
      "11\n",
      "12\n",
      "13\n",
      "14\n",
      "15\n",
      "16\n",
      "17\n",
      "18\n",
      "19\n",
      "20\n"
     ]
    }
   ],
   "metadata": {}
  }
 ],
 "metadata": {
  "orig_nbformat": 4,
  "language_info": {
   "name": "python",
   "version": "3.9.5",
   "mimetype": "text/x-python",
   "codemirror_mode": {
    "name": "ipython",
    "version": 3
   },
   "pygments_lexer": "ipython3",
   "nbconvert_exporter": "python",
   "file_extension": ".py"
  },
  "kernelspec": {
   "name": "python3",
   "display_name": "Python 3.9.5 64-bit"
  },
  "interpreter": {
   "hash": "63fd5069d213b44bf678585dea6b12cceca9941eaf7f819626cde1f2670de90d"
  }
 },
 "nbformat": 4,
 "nbformat_minor": 2
}