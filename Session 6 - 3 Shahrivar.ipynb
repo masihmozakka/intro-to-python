{
 "cells": [
  {
   "cell_type": "markdown",
   "source": [
    "<div dir=\"rtl\">\r\n",
    "\r\n",
    "# جلسه ششم،‌ سوم شهریور\r\n",
    "در این جلسه قصد داریم تا با برنامه نویسی شئ‌گرا در پایتون آشنا شویم. تا اینجای کار صرفا به صورت \r\n",
    "Procedural Programming\r\n",
    "پیش می‌رفت.\r\n",
    "</div>"
   ],
   "metadata": {}
  },
  {
   "cell_type": "markdown",
   "source": [
    "<div dir=\"rtl\">\r\n",
    "\r\n",
    "فرض کنید که می‌خواهیم اطلاعات کارمندان یک شرکت را نگه داریم، با اطلاعات کنونیمان بهترین راه استفاده از یک لیست بنظر می‌آید.\r\n",
    "</div>"
   ],
   "metadata": {}
  },
  {
   "cell_type": "code",
   "execution_count": 1,
   "source": [
    "kirk = [\"James Kirk\", 34, \"Captain\", 2265]\r\n",
    "spock = [\"Spock\", 35, \"Science Officer\", 2254]\r\n",
    "mccoy = [\"Leonard McCoy\", \"Chief Medical Officer\", 2266]"
   ],
   "outputs": [],
   "metadata": {}
  },
  {
   "cell_type": "markdown",
   "source": [
    "<div dir=\"rtl\">\r\n",
    "\r\n",
    "اما این روش مشکلاتی دارد، مثلا ممکن است شما بر روی فایل بزرگی کار کنید و برایتان سخت باشد که همیشه به یاد داشته باشید که \r\n",
    "`kirk[0]`\r\n",
    "نام یک کارمند را می دهد. یا، باید همیشه به یاد داشته باشیم که سن \r\n",
    "`spock`\r\n",
    "موجود نیست و برنامه را با توجه به آن تغییر دهیم.\r\n",
    "\r\n",
    "مفهوم کارمند چه چیزی را به یاد شما می‌آورد؟ وقتی که به کلمه کارمند فکر می‌کنیم به طور اتوماتیک به ویژگی هایی مانند شغل، محل کار و نام و نام خانوادگی فکر می‌کنیم که بین تمامی کارمندان مشترک است. در واقع، یک «کلاس» از کارمندان داریم که تعدادی «نمونه» از این کارمندان ساخته می شود.\r\n",
    "</div>"
   ],
   "metadata": {}
  },
  {
   "cell_type": "code",
   "execution_count": 4,
   "source": [
    "class Employee:\r\n",
    "    pass"
   ],
   "outputs": [],
   "metadata": {}
  },
  {
   "cell_type": "code",
   "execution_count": 5,
   "source": [
    "# the first function we will learn about is __init__, it creates the variables of each specific object\r\n",
    "# classes are like blueprints, objects are like specific examples\r\n",
    "\r\n",
    "class Employee:\r\n",
    "    def __init__(self, n, a):\r\n",
    "        self.name = n\r\n",
    "        self.age = a\r\n",
    "\r\n",
    "# self means that specific object, instead of the whole class"
   ],
   "outputs": [
    {
     "output_type": "execute_result",
     "data": {
      "text/plain": [
       "20"
      ]
     },
     "metadata": {},
     "execution_count": 5
    }
   ],
   "metadata": {}
  },
  {
   "cell_type": "code",
   "execution_count": 7,
   "source": [
    "masih = Employee(\"masih\", \"20\")\r\n",
    "employee_2 = Employee(\"ali\", \"24\")\r\n",
    "print(masih.name)\r\n",
    "print(employee_2.age)\r\n",
    "print(type(masih))"
   ],
   "outputs": [
    {
     "output_type": "stream",
     "name": "stdout",
     "text": [
      "masih\n",
      "24\n",
      "<class '__main__.Employee'>\n"
     ]
    }
   ],
   "metadata": {}
  },
  {
   "cell_type": "code",
   "execution_count": 9,
   "source": [
    "# class attribute vs object attribute\r\n",
    "class Employee:\r\n",
    "    # class attribute\r\n",
    "    # class attributes have to be defined outside of __init__\r\n",
    "    company = \"amirkabir university of technology\"\r\n",
    "    def __init__(self, name, age):\r\n",
    "        # object attribute\r\n",
    "        self.name = name\r\n",
    "        self.age = age"
   ],
   "outputs": [],
   "metadata": {}
  },
  {
   "cell_type": "code",
   "execution_count": 10,
   "source": [
    "masih = Employee(\"masih\", \"20\")\r\n",
    "masih.age = \"21\"\r\n",
    "employee_2 = Employee(\"ali\", \"24\")\r\n",
    "print(masih.age)\r\n",
    "print(employee_2.age)\r\n",
    "print(masih.company, employee_2.company)"
   ],
   "outputs": [
    {
     "output_type": "stream",
     "name": "stdout",
     "text": [
      "21\n",
      "24\n",
      "amirkabir university of technology amirkabir university of technology\n"
     ]
    }
   ],
   "metadata": {}
  },
  {
   "cell_type": "code",
   "execution_count": 11,
   "source": [
    "# methods\r\n",
    "# a function that is defined inside of a class is called a method\r\n",
    "\r\n",
    "class Employee:\r\n",
    "    # class attribute\r\n",
    "    company = \"amirkabir university of technology\"\r\n",
    "    def __init__(self, name, age):\r\n",
    "        # object attribute\r\n",
    "        self.name = name\r\n",
    "        self.age = age\r\n",
    "\r\n",
    "    # Instance method\r\n",
    "    def description(self):\r\n",
    "        return f\"{self.name} is {self.age} years old\"\r\n",
    "\r\n",
    "    # Another instance method\r\n",
    "    def speak(self, sound):\r\n",
    "        return f\"{self.name} says {sound}\"\r\n",
    "\r\n",
    "masih = Employee(\"masih\", \"21\")\r\n",
    "masih.description()"
   ],
   "outputs": [
    {
     "output_type": "execute_result",
     "data": {
      "text/plain": [
       "'masih is 21 years old'"
      ]
     },
     "metadata": {},
     "execution_count": 11
    }
   ],
   "metadata": {}
  },
  {
   "cell_type": "code",
   "execution_count": 12,
   "source": [
    "# printing objects\r\n",
    "print(masih)\r\n",
    "print(employee_2)"
   ],
   "outputs": [
    {
     "output_type": "stream",
     "name": "stdout",
     "text": [
      "<__main__.Employee object at 0x0000024DF62EECD0>\n",
      "<__main__.Employee object at 0x0000024DF62EE7C0>\n"
     ]
    }
   ],
   "metadata": {}
  },
  {
   "cell_type": "code",
   "execution_count": 13,
   "source": [
    "# the __str__ method \r\n",
    "class Employee:\r\n",
    "    # class attribute\r\n",
    "    company = \"amirkabir university of technology\"\r\n",
    "\r\n",
    "    # the init method helps us initialize the method\r\n",
    "    def __init__(self, name, age):\r\n",
    "        # object attribute\r\n",
    "        self.name = name\r\n",
    "        self.age = age\r\n",
    "\r\n",
    "    # the __str__ method helps us to print info about the object\r\n",
    "    def __str__(self):\r\n",
    "        return f\"{self.name} is an object, not a person, and they are {self.age} years old\"\r\n",
    "\r\n",
    "    # Instance method\r\n",
    "    def description(self):\r\n",
    "        return f\"{self.name} is {self.age} years old\"\r\n",
    "\r\n",
    "    # Another instance method\r\n",
    "    def speak(self, sound):\r\n",
    "        return f\"{self.name} says {sound}\"\r\n",
    "\r\n",
    "masih = Employee(\"masih\", 21)\r\n",
    "print(masih)"
   ],
   "outputs": [
    {
     "output_type": "stream",
     "name": "stdout",
     "text": [
      "masih is an object, not a person, and they are 21 years old\n"
     ]
    }
   ],
   "metadata": {}
  },
  {
   "cell_type": "markdown",
   "source": [
    "<div>\r\n",
    "\r\n",
    "## Inheritence\r\n",
    "there are 3 main features that make object oriented programming unique (OOP); inheritence, polymorphism and encapsulation.\r\n",
    "</div>"
   ],
   "metadata": {}
  },
  {
   "cell_type": "code",
   "execution_count": 14,
   "source": [
    "# first we make a class called person\r\n",
    "class Person:\r\n",
    "    def __init__(self, name, age):\r\n",
    "        self.name_of_person = name\r\n",
    "        self.age_of_person  = age\r\n"
   ],
   "outputs": [],
   "metadata": {}
  },
  {
   "cell_type": "code",
   "execution_count": 16,
   "source": [
    "# now we make a class called employee which inherits from person\r\n",
    "\r\n",
    "class Employee(Person):\r\n",
    "    def __init__(self, name, age, company):\r\n",
    "        super().__init__(name, age)\r\n",
    "        self.company = company\r\n",
    "\r\n",
    "masih = Employee(\"masih\", 21, \"aut\")\r\n",
    "print(masih.name_of_person)"
   ],
   "outputs": [
    {
     "output_type": "stream",
     "name": "stdout",
     "text": [
      "masih\n"
     ]
    }
   ],
   "metadata": {}
  },
  {
   "cell_type": "markdown",
   "source": [
    "## Encapsulation"
   ],
   "metadata": {}
  },
  {
   "cell_type": "code",
   "execution_count": 17,
   "source": [
    "# first we make a class\r\n",
    "class Counter:\r\n",
    "    def __init__(self):\r\n",
    "        self.current = 0\r\n",
    "\r\n",
    "    def increment(self):\r\n",
    "        self.current += 1\r\n",
    "\r\n",
    "    def value(self):\r\n",
    "        return self.current\r\n",
    "\r\n",
    "    def reset(self):\r\n",
    "        self.current = 0"
   ],
   "outputs": [],
   "metadata": {}
  },
  {
   "cell_type": "code",
   "execution_count": 18,
   "source": [
    "# now we can run this class\r\n",
    "counter = Counter()\r\n",
    "\r\n",
    "\r\n",
    "counter.increment()\r\n",
    "counter.increment()\r\n",
    "counter.increment()\r\n",
    "\r\n",
    "print(counter.value())"
   ],
   "outputs": [
    {
     "output_type": "stream",
     "name": "stdout",
     "text": [
      "3\n"
     ]
    }
   ],
   "metadata": {}
  },
  {
   "cell_type": "code",
   "execution_count": 19,
   "source": [
    "# but we can change values from outside of class\r\n",
    "\r\n",
    "counter = Counter()\r\n",
    "\r\n",
    "counter.increment()\r\n",
    "counter.increment()\r\n",
    "counter.current = -999\r\n",
    "\r\n",
    "print(counter.value())"
   ],
   "outputs": [
    {
     "output_type": "stream",
     "name": "stdout",
     "text": [
      "-999\n"
     ]
    }
   ],
   "metadata": {}
  },
  {
   "cell_type": "code",
   "execution_count": 20,
   "source": [
    "# encapsulation lets us hide data from outside of the class to improve program consistancy and security\r\n",
    "# members with double underscore (__) are private and cannot be accessed from outside of class\r\n",
    "class Counter:\r\n",
    "    def __init__(self):\r\n",
    "        self.__current = 0\r\n",
    "\r\n",
    "    def increment(self):\r\n",
    "        self.__current += 1\r\n",
    "\r\n",
    "    def value(self):\r\n",
    "        return self.__current\r\n",
    "\r\n",
    "    def reset(self):\r\n",
    "        self.__current = 0\r\n",
    "\r\n",
    "counter = Counter()\r\n",
    "\r\n",
    "print(counter.__current)"
   ],
   "outputs": [
    {
     "output_type": "error",
     "ename": "AttributeError",
     "evalue": "'Counter' object has no attribute '__current'",
     "traceback": [
      "\u001b[1;31m---------------------------------------------------------------------------\u001b[0m",
      "\u001b[1;31mAttributeError\u001b[0m                            Traceback (most recent call last)",
      "\u001b[1;32m~\\AppData\\Local\\Temp/ipykernel_2400/3131441731.py\u001b[0m in \u001b[0;36m<module>\u001b[1;34m\u001b[0m\n\u001b[0;32m     15\u001b[0m \u001b[1;33m\u001b[0m\u001b[0m\n\u001b[0;32m     16\u001b[0m \u001b[0mcounter\u001b[0m \u001b[1;33m=\u001b[0m \u001b[0mCounter\u001b[0m\u001b[1;33m(\u001b[0m\u001b[1;33m)\u001b[0m\u001b[1;33m\u001b[0m\u001b[1;33m\u001b[0m\u001b[0m\n\u001b[1;32m---> 17\u001b[1;33m \u001b[0mprint\u001b[0m\u001b[1;33m(\u001b[0m\u001b[0mcounter\u001b[0m\u001b[1;33m.\u001b[0m\u001b[0m__current\u001b[0m\u001b[1;33m)\u001b[0m\u001b[1;33m\u001b[0m\u001b[1;33m\u001b[0m\u001b[0m\n\u001b[0m",
      "\u001b[1;31mAttributeError\u001b[0m: 'Counter' object has no attribute '__current'"
     ]
    }
   ],
   "metadata": {}
  },
  {
   "cell_type": "code",
   "execution_count": 21,
   "source": [
    "# but you still have access by writing\r\n",
    "counter = Counter()\r\n",
    "counter.increment()\r\n",
    "\r\n",
    "# name mangling\r\n",
    "print(counter._Counter__current)"
   ],
   "outputs": [
    {
     "output_type": "stream",
     "name": "stdout",
     "text": [
      "1\n"
     ]
    }
   ],
   "metadata": {}
  },
  {
   "cell_type": "markdown",
   "source": [
    "Advanced students: You can read more about how underscores work in python from [this link](https://dbader.org/blog/meaning-of-underscores-in-python)"
   ],
   "metadata": {}
  },
  {
   "cell_type": "markdown",
   "source": [
    "# Polymorphism\r\n",
    "This is where the meaning of an operator changes depending on its left and right operands."
   ],
   "metadata": {}
  },
  {
   "cell_type": "code",
   "execution_count": 22,
   "source": [
    "# here, the + operator means add two numbers together\r\n",
    "num1 = 1\r\n",
    "num2 = 2\r\n",
    "print(num1+num2)\r\n",
    "\r\n",
    "# here, it means to attach strings together\r\n",
    "str1 = \"Python\"\r\n",
    "str2 = \"Programming\"\r\n",
    "print(str1+\" \"+str2)\r\n",
    "\r\n",
    "# this is basically polymorphism, the meaning of an operator changes\r\n",
    "# depending on the operands"
   ],
   "outputs": [
    {
     "output_type": "stream",
     "name": "stdout",
     "text": [
      "3\n",
      "Python Programming\n"
     ]
    }
   ],
   "metadata": {}
  },
  {
   "cell_type": "code",
   "execution_count": 23,
   "source": [
    "# polymorphic function\r\n",
    "print(len(\"Programiz\"))\r\n",
    "print(len([\"Python\", \"Java\", \"C\"]))\r\n",
    "print(len({\"Name\": \"John\", \"Address\": \"Nepal\"}))"
   ],
   "outputs": [
    {
     "output_type": "stream",
     "name": "stdout",
     "text": [
      "9\n",
      "3\n",
      "2\n"
     ]
    }
   ],
   "metadata": {}
  },
  {
   "cell_type": "code",
   "execution_count": 24,
   "source": [
    "# polymorphism in variables\r\n",
    "\r\n",
    "class Cat:\r\n",
    "    def __init__(self, name, age):\r\n",
    "        self.name = name\r\n",
    "        self.age = age\r\n",
    "\r\n",
    "    def info(self):\r\n",
    "        print(f\"I am a cat. My name is {self.name}. I am {self.age} years old.\")\r\n",
    "\r\n",
    "    def make_sound(self):\r\n",
    "        print(\"Meow\")\r\n",
    "\r\n",
    "\r\n",
    "class Dog:\r\n",
    "    def __init__(self, name, age):\r\n",
    "        self.name = name\r\n",
    "        self.age = age\r\n",
    "\r\n",
    "    def info(self):\r\n",
    "        print(f\"I am a dog. My name is {self.name}. I am {self.age} years old.\")\r\n",
    "\r\n",
    "    def make_sound(self):\r\n",
    "        print(\"Bark\")\r\n",
    "\r\n",
    "\r\n",
    "cat1 = Cat(\"Kitty\", 2.5)\r\n",
    "dog1 = Dog(\"Fluffy\", 4)\r\n",
    "\r\n",
    "# python knows when \"animal\" refers to a cat and when it refers to a dog\r\n",
    "for animal in [cat1, dog1]:\r\n",
    "    animal.make_sound()\r\n",
    "    animal.info()\r\n",
    "    animal.make_sound()"
   ],
   "outputs": [
    {
     "output_type": "stream",
     "name": "stdout",
     "text": [
      "Meow\n",
      "I am a cat. My name is Kitty. I am 2.5 years old.\n",
      "Meow\n",
      "Bark\n",
      "I am a dog. My name is Fluffy. I am 4 years old.\n",
      "Bark\n"
     ]
    }
   ],
   "metadata": {}
  },
  {
   "cell_type": "code",
   "execution_count": 25,
   "source": [
    "# we can redefine methods when we create child classes\r\n",
    "from math import pi\r\n",
    "class Shape:\r\n",
    "    def __init__(self, name):\r\n",
    "        self.name = name\r\n",
    "\r\n",
    "    def area(self):\r\n",
    "        pass\r\n",
    "\r\n",
    "    def fact(self):\r\n",
    "        return \"I am a two-dimensional shape.\"\r\n",
    "\r\n",
    "    def __str__(self):\r\n",
    "        return self.name\r\n",
    "\r\n",
    "\r\n",
    "class Square(Shape):\r\n",
    "    def __init__(self, length):\r\n",
    "        super().__init__(\"Square\")\r\n",
    "        self.length = length\r\n",
    "\r\n",
    "    def area(self):\r\n",
    "        return self.length**2\r\n",
    "\r\n",
    "    def fact(self):\r\n",
    "        return \"Squares have each angle equal to 90 degrees.\"\r\n",
    "\r\n",
    "\r\n",
    "class Circle(Shape):\r\n",
    "    def __init__(self, radius):\r\n",
    "        super().__init__(\"Circle\")\r\n",
    "        self.radius = radius\r\n",
    "\r\n",
    "    def area(self):\r\n",
    "        return pi*self.radius**2\r\n",
    "\r\n",
    "\r\n",
    "a = Square(4)\r\n",
    "b = Circle(7)\r\n",
    "print(b)\r\n",
    "print(b.fact())\r\n",
    "print(a.fact())\r\n",
    "print(b.area())"
   ],
   "outputs": [
    {
     "output_type": "stream",
     "name": "stdout",
     "text": [
      "Circle\n",
      "I am a two-dimensional shape.\n",
      "Squares have each angle equal to 90 degrees.\n",
      "153.93804002589985\n"
     ]
    }
   ],
   "metadata": {}
  },
  {
   "cell_type": "markdown",
   "source": [
    "## Operator Overloading"
   ],
   "metadata": {}
  },
  {
   "cell_type": "code",
   "execution_count": 26,
   "source": [
    "class Point:\r\n",
    "    def __init__(self, x=0, y=0):\r\n",
    "        self.x = x\r\n",
    "        self.y = y\r\n",
    "\r\n",
    "\r\n",
    "p1 = Point(1, 2)\r\n",
    "p2 = Point(2, 3)\r\n",
    "print(p1+p2)"
   ],
   "outputs": [
    {
     "output_type": "error",
     "ename": "TypeError",
     "evalue": "unsupported operand type(s) for +: 'Point' and 'Point'",
     "traceback": [
      "\u001b[1;31m---------------------------------------------------------------------------\u001b[0m",
      "\u001b[1;31mTypeError\u001b[0m                                 Traceback (most recent call last)",
      "\u001b[1;32m~\\AppData\\Local\\Temp/ipykernel_2400/1142224220.py\u001b[0m in \u001b[0;36m<module>\u001b[1;34m\u001b[0m\n\u001b[0;32m      7\u001b[0m \u001b[0mp1\u001b[0m \u001b[1;33m=\u001b[0m \u001b[0mPoint\u001b[0m\u001b[1;33m(\u001b[0m\u001b[1;36m1\u001b[0m\u001b[1;33m,\u001b[0m \u001b[1;36m2\u001b[0m\u001b[1;33m)\u001b[0m\u001b[1;33m\u001b[0m\u001b[1;33m\u001b[0m\u001b[0m\n\u001b[0;32m      8\u001b[0m \u001b[0mp2\u001b[0m \u001b[1;33m=\u001b[0m \u001b[0mPoint\u001b[0m\u001b[1;33m(\u001b[0m\u001b[1;36m2\u001b[0m\u001b[1;33m,\u001b[0m \u001b[1;36m3\u001b[0m\u001b[1;33m)\u001b[0m\u001b[1;33m\u001b[0m\u001b[1;33m\u001b[0m\u001b[0m\n\u001b[1;32m----> 9\u001b[1;33m \u001b[0mprint\u001b[0m\u001b[1;33m(\u001b[0m\u001b[0mp1\u001b[0m\u001b[1;33m+\u001b[0m\u001b[0mp2\u001b[0m\u001b[1;33m)\u001b[0m\u001b[1;33m\u001b[0m\u001b[1;33m\u001b[0m\u001b[0m\n\u001b[0m",
      "\u001b[1;31mTypeError\u001b[0m: unsupported operand type(s) for +: 'Point' and 'Point'"
     ]
    }
   ],
   "metadata": {}
  },
  {
   "cell_type": "code",
   "execution_count": 27,
   "source": [
    "class Point:\r\n",
    "    def __init__(self, x=0, y=0):\r\n",
    "        self.x = x\r\n",
    "        self.y = y\r\n",
    "\r\n",
    "    def __str__(self):\r\n",
    "        return \"({0},{1})\".format(self.x, self.y)\r\n",
    "\r\n",
    "    # here is where we overload the + operator\r\n",
    "    def __add__(self, other):\r\n",
    "        x = self.x + other.x\r\n",
    "        y = self.y + other.y\r\n",
    "        return Point(x, y)"
   ],
   "outputs": [],
   "metadata": {}
  },
  {
   "cell_type": "code",
   "execution_count": 29,
   "source": [
    "p1 = Point(1, 2)\r\n",
    "p2 = Point(2, 3)\r\n",
    "\r\n",
    "print(p1+p2)"
   ],
   "outputs": [
    {
     "output_type": "stream",
     "name": "stdout",
     "text": [
      "<class '__main__.Point'>\n"
     ]
    }
   ],
   "metadata": {}
  },
  {
   "cell_type": "markdown",
   "source": [
    "Advanced students: A complete list of overloading functions is available at [this link](https://www.programiz.com/python-programming/operator-overloading)"
   ],
   "metadata": {}
  },
  {
   "cell_type": "markdown",
   "source": [
    "### Exercise:\r\n",
    "Write a program that _builds a coordinate system_, it should store points as objects, have a method to print the information of the vector (using str), have a method to calculate the length of a vector by the formula\r\n",
    "$len = \\sqrt{x^2 + y^2}$, it should also have a way of determining which vector is bigger than another using the `<` operator. If a vector has a bigger size than another one, the `<` operator should return True. "
   ],
   "metadata": {}
  },
  {
   "cell_type": "markdown",
   "source": [
    "## args and kwargs"
   ],
   "metadata": {}
  },
  {
   "cell_type": "markdown",
   "source": [
    "In the previous example, what if we wanted to create a system that takes it as many points as we'd like? As a simpler example, consider this function:"
   ],
   "metadata": {}
  },
  {
   "cell_type": "code",
   "execution_count": 30,
   "source": [
    "# this works fine, but it should be easy to add more than 2 numbers right?\r\n",
    "def my_sum(a, b):\r\n",
    "    return a + b\r\n",
    "\r\n",
    "print(my_sum(1, 2))"
   ],
   "outputs": [
    {
     "output_type": "stream",
     "name": "stdout",
     "text": [
      "3\n"
     ]
    }
   ],
   "metadata": {}
  },
  {
   "cell_type": "code",
   "execution_count": 31,
   "source": [
    "# WRONG, YOU CANT!\r\n",
    "print(my_sum(1, 2, 3))"
   ],
   "outputs": [
    {
     "output_type": "error",
     "ename": "TypeError",
     "evalue": "my_sum() takes 2 positional arguments but 3 were given",
     "traceback": [
      "\u001b[1;31m---------------------------------------------------------------------------\u001b[0m",
      "\u001b[1;31mTypeError\u001b[0m                                 Traceback (most recent call last)",
      "\u001b[1;32m~\\AppData\\Local\\Temp/ipykernel_2400/2246072414.py\u001b[0m in \u001b[0;36m<module>\u001b[1;34m\u001b[0m\n\u001b[0;32m      1\u001b[0m \u001b[1;31m# WRONG, YOU CANT!\u001b[0m\u001b[1;33m\u001b[0m\u001b[1;33m\u001b[0m\u001b[1;33m\u001b[0m\u001b[0m\n\u001b[1;32m----> 2\u001b[1;33m \u001b[0mprint\u001b[0m\u001b[1;33m(\u001b[0m\u001b[0mmy_sum\u001b[0m\u001b[1;33m(\u001b[0m\u001b[1;36m1\u001b[0m\u001b[1;33m,\u001b[0m \u001b[1;36m2\u001b[0m\u001b[1;33m,\u001b[0m \u001b[1;36m3\u001b[0m\u001b[1;33m)\u001b[0m\u001b[1;33m)\u001b[0m\u001b[1;33m\u001b[0m\u001b[1;33m\u001b[0m\u001b[0m\n\u001b[0m",
      "\u001b[1;31mTypeError\u001b[0m: my_sum() takes 2 positional arguments but 3 were given"
     ]
    }
   ],
   "metadata": {}
  },
  {
   "cell_type": "code",
   "execution_count": 32,
   "source": [
    "# this should work, buts its not ideal\r\n",
    "def my_sum(my_integers):\r\n",
    "    # result = 0\r\n",
    "    # for x in my_integers:\r\n",
    "    #     result += x\r\n",
    "    # return result\r\n",
    "    return sum(my_integers)\r\n",
    "\r\n",
    "# we dont want this:\r\n",
    "# data -> list -> data -> result\r\n",
    "# we want this:\r\n",
    "# data -> result\r\n",
    "\r\n",
    "list_of_integers = [1, 2, 3]\r\n",
    "print(my_sum(list_of_integers))"
   ],
   "outputs": [
    {
     "output_type": "stream",
     "name": "stdout",
     "text": [
      "6\n"
     ]
    }
   ],
   "metadata": {}
  },
  {
   "cell_type": "code",
   "execution_count": 34,
   "source": [
    "# python takes positional arguements then turns them into a tuple\r\n",
    "# packing\r\n",
    "def my_sum(*args):\r\n",
    "    result = 0\r\n",
    "    # Iterating over the Python args tuple\r\n",
    "    print(args)\r\n",
    "    for x in args:\r\n",
    "        result += x\r\n",
    "    return result\r\n",
    "\r\n",
    "print(my_sum(1, 2))"
   ],
   "outputs": [
    {
     "output_type": "stream",
     "name": "stdout",
     "text": [
      "(1, 2)\n",
      "3\n"
     ]
    }
   ],
   "metadata": {}
  },
  {
   "cell_type": "code",
   "execution_count": 38,
   "source": [
    "# but what does * mean?\r\n",
    "# unpack\r\n",
    "print(*[1, 2, 3])\r\n",
    "print(1, 2, 3)\r\n",
    "# is same as print(1, 2, 3)"
   ],
   "outputs": [
    {
     "output_type": "stream",
     "name": "stdout",
     "text": [
      "1 2 3\n",
      "1 2 3\n"
     ]
    }
   ],
   "metadata": {}
  },
  {
   "cell_type": "code",
   "execution_count": 39,
   "source": [
    "# you can also include more arguments before *args\r\n",
    "# python automatically assigns the first argument we pass into the function\r\n",
    "# (\"masih\") to name and sends the rest to *args\r\n",
    "def my_sum(name, *args):\r\n",
    "    result = 0\r\n",
    "    # Iterating over the Python args tuple\r\n",
    "    print(name)\r\n",
    "    for x in args:\r\n",
    "        result += x\r\n",
    "    return result\r\n",
    "\r\n",
    "print(my_sum(\"masih\", 1, 2, 3))"
   ],
   "outputs": [
    {
     "output_type": "stream",
     "name": "stdout",
     "text": [
      "masih\n",
      "6\n"
     ]
    }
   ],
   "metadata": {}
  },
  {
   "cell_type": "code",
   "execution_count": 40,
   "source": [
    "# we also have kwargs\r\n",
    "# python creates a dictionary from the keyword arguements\r\n",
    "def concatenate(**kwargs):\r\n",
    "    result = \"\"\r\n",
    "    print(kwargs)\r\n",
    "    # Iterating over the Python kwargs dictionary\r\n",
    "    for arg in kwargs.values():\r\n",
    "        result += arg\r\n",
    "    return result\r\n",
    "\r\n",
    "print(concatenate(a=\"Real\", b=\"Python\", c=\"Is\", d=\"Great\", e=\"!\"))"
   ],
   "outputs": [
    {
     "output_type": "stream",
     "name": "stdout",
     "text": [
      "{'a': 'Real', 'b': 'Python', 'c': 'Is', 'd': 'Great', 'e': '!'}\n",
      "RealPythonIsGreat!\n"
     ]
    }
   ],
   "metadata": {}
  },
  {
   "cell_type": "code",
   "execution_count": 41,
   "source": [
    "# args has to come before kwargs\r\n",
    "def my_function(a, b, *args, **kwargs):\r\n",
    "    print(a, b)\r\n",
    "    print(args)\r\n",
    "    print(kwargs)\r\n",
    "\r\n",
    "# python assigns first value to a, then second value to b\r\n",
    "# then assigns values to args until it gets to a keyword arguement\r\n",
    "# then assigns to kwargs\r\n",
    "my_function(\"hello\", \"world\", 1, 2, 3, 4, name=\"masih\")"
   ],
   "outputs": [
    {
     "output_type": "stream",
     "name": "stdout",
     "text": [
      "hello world\n",
      "(1, 2, 3, 4)\n",
      "{'name': 'masih'}\n"
     ]
    }
   ],
   "metadata": {}
  },
  {
   "cell_type": "code",
   "execution_count": 43,
   "source": [
    "# fun fact, you can return a tuple of values from a function\r\n",
    "def func():\r\n",
    "    return 1, 2, 3, 4\r\n",
    "\r\n",
    "var = func()\r\n",
    "print(type(var))\r\n",
    "print(var)"
   ],
   "outputs": [
    {
     "output_type": "stream",
     "name": "stdout",
     "text": [
      "<class 'tuple'>\n",
      "(1, 2, 3, 4)\n"
     ]
    }
   ],
   "metadata": {}
  },
  {
   "cell_type": "code",
   "execution_count": null,
   "source": [],
   "outputs": [],
   "metadata": {}
  }
 ],
 "metadata": {
  "orig_nbformat": 4,
  "language_info": {
   "name": "python",
   "version": "3.9.5",
   "mimetype": "text/x-python",
   "codemirror_mode": {
    "name": "ipython",
    "version": 3
   },
   "pygments_lexer": "ipython3",
   "nbconvert_exporter": "python",
   "file_extension": ".py"
  },
  "kernelspec": {
   "name": "python3",
   "display_name": "Python 3.9.5 64-bit"
  },
  "interpreter": {
   "hash": "63fd5069d213b44bf678585dea6b12cceca9941eaf7f819626cde1f2670de90d"
  }
 },
 "nbformat": 4,
 "nbformat_minor": 2
}